{
 "cells": [
  {
   "cell_type": "code",
   "execution_count": 2,
   "metadata": {},
   "outputs": [],
   "source": [
    "from pywgraph import Group, WeightedDirectedGraph"
   ]
  },
  {
   "cell_type": "code",
   "execution_count": 17,
   "metadata": {},
   "outputs": [],
   "source": [
    "graph = WeightedDirectedGraph.from_dict({\n",
    "    \"A\": {\"B\": 1, \"C\": 2},\n",
    "    \"B\": {\"A\": 1.4, \"C\": 3, \"D\": 4},\n",
    "    \"C\": {\"D\": 5},\n",
    "    \"D\":{}\n",
    "})"
   ]
  },
  {
   "cell_type": "code",
   "execution_count": 15,
   "metadata": {},
   "outputs": [],
   "source": [
    "def _iterate_aux(\n",
    "    graph, search_path: list[str], visited_nodes: set, end: str\n",
    ") -> tuple[list[list[str]], set[str]]:\n",
    "    \"\"\"Auxiliary function to iterate through the graph. Here the graph parameter must\n",
    "    be a WeightedDirectedGraph object.\"\"\"\n",
    "    current_node = search_path[-1]\n",
    "    if current_node == end:\n",
    "        return [[]], visited_nodes\n",
    "\n",
    "    children = graph.children(current_node)\n",
    "    new_paths = [\n",
    "        search_path + [child] for child in children if child not in visited_nodes\n",
    "    ]\n",
    "    visited_nodes.update(children)\n",
    "    return new_paths, visited_nodes\n",
    "\n",
    "\n",
    "def _find_path(graph, start: str, end: str) -> list[str]:\n",
    "    \"\"\"Finds the shortest path between two nodes in a graph. Here the graph parameter must\n",
    "    be a WeightedDirectedGraph.\"\"\"\n",
    "    all_paths = [[start]]\n",
    "    visited_nodes = {start}\n",
    "    while (end not in visited_nodes) and (len(all_paths) != 0):\n",
    "        search_path = all_paths.pop(0)\n",
    "        new_paths, visited_nodes = _iterate_aux(graph, search_path, visited_nodes, end)\n",
    "        all_paths.extend(new_paths)\n",
    "\n",
    "    if all_paths:\n",
    "        return [path for path in all_paths if path[-1] == end][0]\n",
    "\n",
    "    return []\n"
   ]
  },
  {
   "cell_type": "code",
   "execution_count": 12,
   "metadata": {},
   "outputs": [
    {
     "data": {
      "text/plain": [
       "Nodes: {'B', 'C', 'A'}\n",
       "Edges:\n",
       "B -> D: 4\n",
       "C -> A: 0.5\n",
       "B -> C: 3\n",
       "B -> A: 1.4\n",
       "D -> B: 0.25\n",
       "A -> C: 2\n",
       "A -> B: 1\n",
       "D -> C: 0.2\n",
       "C -> B: 0.3333333333333333\n",
       "C -> D: 5"
      ]
     },
     "execution_count": 12,
     "metadata": {},
     "output_type": "execute_result"
    }
   ],
   "source": [
    "graph.add_reverse_edges()"
   ]
  },
  {
   "cell_type": "code",
   "execution_count": 20,
   "metadata": {},
   "outputs": [
    {
     "data": {
      "text/plain": [
       "'A'"
      ]
     },
     "execution_count": 20,
     "metadata": {},
     "output_type": "execute_result"
    }
   ],
   "source": [
    "graph.path_weight([], \"A\")"
   ]
  }
 ],
 "metadata": {
  "kernelspec": {
   "display_name": "Python 3",
   "language": "python",
   "name": "python3"
  },
  "language_info": {
   "codemirror_mode": {
    "name": "ipython",
    "version": 3
   },
   "file_extension": ".py",
   "mimetype": "text/x-python",
   "name": "python",
   "nbconvert_exporter": "python",
   "pygments_lexer": "ipython3",
   "version": "3.12.2"
  }
 },
 "nbformat": 4,
 "nbformat_minor": 2
}
