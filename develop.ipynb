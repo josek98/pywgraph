{
 "cells": [
  {
   "cell_type": "code",
   "execution_count": 1,
   "metadata": {},
   "outputs": [],
   "source": [
    "from pywgraph import Group, WeightedDirectedGraph"
   ]
  },
  {
   "cell_type": "code",
   "execution_count": 2,
   "metadata": {},
   "outputs": [],
   "source": [
    "graph = WeightedDirectedGraph.from_dict({\n",
    "    \"A\": {\"B\": 1, \"C\": 2},\n",
    "    \"B\": {\"A\": 1.4, \"C\": 3, \"D\": 4},\n",
    "    \"C\": {\"D\": 5},\n",
    "    \"D\":{},\n",
    "    \"E\":{}\n",
    "})"
   ]
  },
  {
   "cell_type": "code",
   "execution_count": 3,
   "metadata": {},
   "outputs": [
    {
     "data": {
      "text/plain": [
       "Nodes: {'D', 'B', 'C', 'A', 'E'}\n",
       "Edges:\n",
       "B -> D: 4\n",
       "B -> C: 3\n",
       "A -> C: 2\n",
       "D -> C: 0.2\n",
       "B -> A: 1.4\n",
       "C -> D: 5\n",
       "A -> B: 1"
      ]
     },
     "execution_count": 3,
     "metadata": {},
     "output_type": "execute_result"
    }
   ],
   "source": [
    "graph.add_edge(\"D\", \"C\")"
   ]
  },
  {
   "cell_type": "code",
   "execution_count": 4,
   "metadata": {},
   "outputs": [
    {
     "name": "stdout",
     "output_type": "stream",
     "text": [
      "Unable to find a weight to connect edge C -> E\n"
     ]
    },
    {
     "data": {
      "text/plain": [
       "Nodes: {'D', 'B', 'C', 'A', 'E'}\n",
       "Edges:\n",
       "B -> C: 3\n",
       "A -> C: 2\n",
       "B -> A: 1.4\n",
       "C -> D: 5\n",
       "A -> B: 1\n",
       "B -> D: 4"
      ]
     },
     "execution_count": 4,
     "metadata": {},
     "output_type": "execute_result"
    }
   ],
   "source": [
    "graph.add_edge(\"C\", \"E\")"
   ]
  },
  {
   "cell_type": "code",
   "execution_count": null,
   "metadata": {},
   "outputs": [],
   "source": [
    "graph.path_weight([], \"A\")"
   ]
  }
 ],
 "metadata": {
  "kernelspec": {
   "display_name": "Python 3",
   "language": "python",
   "name": "python3"
  },
  "language_info": {
   "codemirror_mode": {
    "name": "ipython",
    "version": 3
   },
   "file_extension": ".py",
   "mimetype": "text/x-python",
   "name": "python",
   "nbconvert_exporter": "python",
   "pygments_lexer": "ipython3",
   "version": "3.12.2"
  }
 },
 "nbformat": 4,
 "nbformat_minor": 2
}
