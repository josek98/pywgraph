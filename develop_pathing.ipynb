{
 "cells": [
  {
   "cell_type": "code",
   "execution_count": 1,
   "metadata": {},
   "outputs": [],
   "source": [
    "from pywgraph import WeightedDirectedGraph"
   ]
  },
  {
   "cell_type": "code",
   "execution_count": 11,
   "metadata": {},
   "outputs": [],
   "source": [
    "graph = WeightedDirectedGraph.from_dict({\n",
    "    \"A\": {\"B\": 1, \"C\": 2},\n",
    "    \"B\": {\"C\": 0.2, \"D\": 2},\n",
    "    \"C\": {\"D\": 1},\n",
    "    \"D\": {}\n",
    "})\n",
    "# graph.add_reverse_edges(inplace=True)"
   ]
  },
  {
   "cell_type": "code",
   "execution_count": 66,
   "metadata": {},
   "outputs": [],
   "source": [
    "def iterate_aux(\n",
    "    graph: WeightedDirectedGraph, search_path: list[str], visited_nodes: set, end: str\n",
    ") -> tuple[list[list[str]], set[str], bool]:\n",
    "    current_node = search_path[-1]\n",
    "    if current_node == end:\n",
    "        return [[]], visited_nodes\n",
    "\n",
    "    children = graph.children(current_node)\n",
    "    new_paths = [\n",
    "        search_path + [child] for child in children if child not in visited_nodes\n",
    "    ]\n",
    "    visited_nodes.update(children)\n",
    "    return new_paths, visited_nodes\n",
    "\n",
    "\n",
    "def find_path(graph: WeightedDirectedGraph, start: str, end: str) -> list[str]:\n",
    "    all_paths = [[start]]\n",
    "    visited_nodes = {start}\n",
    "    while (end not in visited_nodes) and (len(all_paths) != 0):\n",
    "        search_path = all_paths.pop(0)\n",
    "        new_paths, visited_nodes = iterate_aux(graph, search_path, visited_nodes, end)\n",
    "        all_paths.extend(new_paths)\n",
    "\n",
    "    if all_paths:\n",
    "        return [path for path in all_paths if path[-1] == end][0]\n",
    "\n",
    "    return []"
   ]
  },
  {
   "cell_type": "code",
   "execution_count": 65,
   "metadata": {},
   "outputs": [
    {
     "name": "stdout",
     "output_type": "stream",
     "text": [
      "-----\n",
      "['B']\n",
      "[['B', 'A'], ['B', 'C'], ['B', 'D']]\n"
     ]
    },
    {
     "data": {
      "text/plain": [
       "['B', 'A']"
      ]
     },
     "execution_count": 65,
     "metadata": {},
     "output_type": "execute_result"
    }
   ],
   "source": [
    "find_path(graph.add_reverse_edges(), \"B\", \"A\")"
   ]
  },
  {
   "cell_type": "code",
   "execution_count": 18,
   "metadata": {},
   "outputs": [
    {
     "name": "stdout",
     "output_type": "stream",
     "text": [
      "['A']\n",
      "[['A', 'B'], ['A', 'C']]\n"
     ]
    }
   ],
   "source": [
    "all_paths = [[\"A\"]]\n",
    "search_path = all_paths.pop(0)\n",
    "print(search_path)\n",
    "new_paths, succes = [[\"A\", \"B\"], [\"A\", \"C\"]], False\n",
    "all_paths.extend(new_paths)\n",
    "print(all_paths)\n"
   ]
  },
  {
   "cell_type": "code",
   "execution_count": 19,
   "metadata": {},
   "outputs": [
    {
     "name": "stdout",
     "output_type": "stream",
     "text": [
      "['A', 'B']\n",
      "[['A', 'C'], ['A', 'B', 'C'], ['A', 'B', 'D']]\n"
     ]
    }
   ],
   "source": [
    "search_path = all_paths.pop(0)\n",
    "print(search_path)\n",
    "new_paths, succes = [[\"A\", \"B\", \"C\"], [\"A\", \"B\", \"D\"]], True\n",
    "all_paths.extend(new_paths)\n",
    "print(all_paths)"
   ]
  },
  {
   "cell_type": "code",
   "execution_count": null,
   "metadata": {},
   "outputs": [],
   "source": []
  },
  {
   "cell_type": "markdown",
   "metadata": {},
   "source": [
    "This algorithm is really slow and doesnt find the shortest path"
   ]
  },
  {
   "cell_type": "code",
   "execution_count": 7,
   "metadata": {},
   "outputs": [],
   "source": [
    "def find_path(graph: WeightedDirectedGraph, start: str, end: str, path=[]):\n",
    "    path = path + [start]\n",
    "    if start == end:\n",
    "        return path\n",
    "    if start not in graph.nodes:\n",
    "        raise ValueError(f\"Start node '{start}' not in graph!!\")\n",
    "    if end not in graph.nodes:\n",
    "        raise ValueError(f\"End node '{end}' not in graph!!\")\n",
    "        \n",
    "    for node in graph.children(start):\n",
    "        if node not in path:\n",
    "            newpath = find_path(graph, node, end, path)\n",
    "            if newpath: \n",
    "                return newpath\n",
    "    return None"
   ]
  },
  {
   "cell_type": "code",
   "execution_count": 13,
   "metadata": {},
   "outputs": [
    {
     "data": {
      "text/plain": [
       "['A', 'B', 'C', 'D']"
      ]
     },
     "execution_count": 13,
     "metadata": {},
     "output_type": "execute_result"
    }
   ],
   "source": [
    "find_path(graph, \"A\", \"D\")"
   ]
  }
 ],
 "metadata": {
  "kernelspec": {
   "display_name": "Python 3",
   "language": "python",
   "name": "python3"
  },
  "language_info": {
   "codemirror_mode": {
    "name": "ipython",
    "version": 3
   },
   "file_extension": ".py",
   "mimetype": "text/x-python",
   "name": "python",
   "nbconvert_exporter": "python",
   "pygments_lexer": "ipython3",
   "version": "3.12.2"
  }
 },
 "nbformat": 4,
 "nbformat_minor": 2
}
