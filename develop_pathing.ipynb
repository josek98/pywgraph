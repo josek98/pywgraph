{
 "cells": [
  {
   "cell_type": "code",
   "execution_count": 6,
   "metadata": {},
   "outputs": [],
   "source": [
    "from pywgraph import WeightedDirectedGraph\n",
    "\n",
    "\n",
    "def graph() -> WeightedDirectedGraph:\n",
    "    dictionary: dict[str, dict[str, float]] = {\n",
    "        \"A\": {\"B\": 1.0, \"C\": 2.5},\n",
    "        \"B\": {\"C\": 2.5},\n",
    "        \"C\": {\"A\": 1/2.5, \"D\": 1.3},\n",
    "        \"D\": {\"E\": 3.4},\n",
    "        \"E\": {\"C\": 1/ (1.3 * 3.4), \"A\": 13.0},\n",
    "        \"Z\": {}\n",
    "    }\n",
    "    return WeightedDirectedGraph.from_dict(dictionary)"
   ]
  },
  {
   "cell_type": "code",
   "execution_count": 7,
   "metadata": {},
   "outputs": [
    {
     "name": "stdout",
     "output_type": "stream",
     "text": [
      "['A', 'C', 'D', 'E']\n"
     ]
    }
   ],
   "source": [
    "path = graph().find_path(\"A\", \"E\")\n",
    "print(path)"
   ]
  },
  {
   "cell_type": "code",
   "execution_count": 9,
   "metadata": {},
   "outputs": [
    {
     "data": {
      "text/plain": [
       "[1.3, 2.5, 3.4]"
      ]
     },
     "execution_count": 9,
     "metadata": {},
     "output_type": "execute_result"
    }
   ],
   "source": [
    "[edge.weight for edge in graph().edges if (edge.start, edge.end) in list(zip(path, path[1:]))]"
   ]
  },
  {
   "cell_type": "code",
   "execution_count": 8,
   "metadata": {},
   "outputs": [
    {
     "data": {
      "text/plain": [
       "11.049999999999999"
      ]
     },
     "execution_count": 8,
     "metadata": {},
     "output_type": "execute_result"
    }
   ],
   "source": []
  },
  {
   "cell_type": "code",
   "execution_count": 11,
   "metadata": {},
   "outputs": [
    {
     "data": {
      "text/plain": [
       "True"
      ]
     },
     "execution_count": 11,
     "metadata": {},
     "output_type": "execute_result"
    }
   ],
   "source": [
    "graph().path_weight(path) == 2.5 * 1.3 * 3.4 "
   ]
  },
  {
   "cell_type": "code",
   "execution_count": 13,
   "metadata": {},
   "outputs": [
    {
     "ename": "NodeNotFound",
     "evalue": "Nodes '{'arfsg', 'saedrg'}' not found in the graph.",
     "output_type": "error",
     "traceback": [
      "\u001b[1;31m---------------------------------------------------------------------------\u001b[0m",
      "\u001b[1;31mNodeNotFound\u001b[0m                              Traceback (most recent call last)",
      "Cell \u001b[1;32mIn[13], line 1\u001b[0m\n\u001b[1;32m----> 1\u001b[0m \u001b[43mgraph\u001b[49m\u001b[43m(\u001b[49m\u001b[43m)\u001b[49m\u001b[38;5;241;43m.\u001b[39;49m\u001b[43mfind_path\u001b[49m\u001b[43m(\u001b[49m\u001b[38;5;124;43m\"\u001b[39;49m\u001b[38;5;124;43msaedrg\u001b[39;49m\u001b[38;5;124;43m\"\u001b[39;49m\u001b[43m,\u001b[49m\u001b[43m \u001b[49m\u001b[38;5;124;43m\"\u001b[39;49m\u001b[38;5;124;43marfsg\u001b[39;49m\u001b[38;5;124;43m\"\u001b[39;49m\u001b[43m)\u001b[49m\n",
      "File \u001b[1;32mc:\\Users\\josem\\Desktop\\Proyectos\\pywgraph\\pywgraph\\_graph.py:64\u001b[0m, in \u001b[0;36mWeightedDirectedGraph.find_path\u001b[1;34m(self, start, end)\u001b[0m\n\u001b[0;32m     62\u001b[0m uknown_nodes \u001b[38;5;241m=\u001b[39m {start, end} \u001b[38;5;241m-\u001b[39m \u001b[38;5;28mself\u001b[39m\u001b[38;5;241m.\u001b[39mnodes\n\u001b[0;32m     63\u001b[0m \u001b[38;5;28;01mif\u001b[39;00m uknown_nodes:\n\u001b[1;32m---> 64\u001b[0m     \u001b[38;5;28;01mraise\u001b[39;00m NodeNotFound(uknown_nodes)\n\u001b[0;32m     65\u001b[0m \u001b[38;5;28;01mreturn\u001b[39;00m _find_path(\u001b[38;5;28mself\u001b[39m, start, end)\n",
      "\u001b[1;31mNodeNotFound\u001b[0m: Nodes '{'arfsg', 'saedrg'}' not found in the graph."
     ]
    }
   ],
   "source": [
    "graph().find_path(\"saedrg\", \"arfsg\")"
   ]
  }
 ],
 "metadata": {
  "kernelspec": {
   "display_name": "Python 3",
   "language": "python",
   "name": "python3"
  },
  "language_info": {
   "codemirror_mode": {
    "name": "ipython",
    "version": 3
   },
   "file_extension": ".py",
   "mimetype": "text/x-python",
   "name": "python",
   "nbconvert_exporter": "python",
   "pygments_lexer": "ipython3",
   "version": "3.12.2"
  }
 },
 "nbformat": 4,
 "nbformat_minor": 2
}
