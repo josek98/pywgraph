{
 "cells": [
  {
   "cell_type": "code",
   "execution_count": 1,
   "metadata": {},
   "outputs": [],
   "source": [
    "from pywgraph import WeightedDirectedGraph"
   ]
  },
  {
   "cell_type": "code",
   "execution_count": 4,
   "metadata": {},
   "outputs": [
    {
     "data": {
      "text/plain": [
       "WeightedDirectedGraph(nodes={'C', 'B', 'A', 'D'}, edges={D -> C: 1.00, C -> D: 1.00, B -> A: 1.00, B -> C: 0.20, A -> B: 1.00, C -> A: 0.50, B -> D: 2.00, D -> B: 0.50, A -> C: 2.00, C -> B: 5.00})"
      ]
     },
     "execution_count": 4,
     "metadata": {},
     "output_type": "execute_result"
    }
   ],
   "source": [
    "graph = WeightedDirectedGraph.from_dict({\n",
    "    \"A\": {\"B\": 1, \"C\": 2},\n",
    "    \"B\": {\"C\": 0.2, \"D\": 2},\n",
    "    \"C\": {\"D\": 1},\n",
    "    \"D\": {}\n",
    "})\n",
    "graph.add_reverse_edges(inplace=True)"
   ]
  },
  {
   "cell_type": "code",
   "execution_count": 5,
   "metadata": {},
   "outputs": [
    {
     "data": {
      "text/plain": [
       "WeightedDirectedGraph(nodes={'C', 'B', 'A', 'D'}, edges={D -> C: 1.00, C -> D: 1.00, B -> A: 1.00, B -> C: 0.20, A -> B: 1.00, C -> A: 0.50, B -> D: 2.00, D -> B: 0.50, A -> C: 2.00, C -> B: 5.00})"
      ]
     },
     "execution_count": 5,
     "metadata": {},
     "output_type": "execute_result"
    }
   ],
   "source": [
    "graph"
   ]
  }
 ],
 "metadata": {
  "kernelspec": {
   "display_name": "Python 3",
   "language": "python",
   "name": "python3"
  },
  "language_info": {
   "codemirror_mode": {
    "name": "ipython",
    "version": 3
   },
   "file_extension": ".py",
   "mimetype": "text/x-python",
   "name": "python",
   "nbconvert_exporter": "python",
   "pygments_lexer": "ipython3",
   "version": "3.12.2"
  }
 },
 "nbformat": 4,
 "nbformat_minor": 2
}
