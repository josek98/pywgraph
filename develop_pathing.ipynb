{
 "cells": [
  {
   "cell_type": "code",
   "execution_count": 1,
   "metadata": {},
   "outputs": [],
   "source": [
    "from pywgraph import WeightedDirectedGraph"
   ]
  },
  {
   "cell_type": "code",
   "execution_count": 66,
   "metadata": {},
   "outputs": [],
   "source": [
    "def iterate_aux(\n",
    "    graph: WeightedDirectedGraph, search_path: list[str], visited_nodes: set, end: str\n",
    ") -> tuple[list[list[str]], set[str], bool]:\n",
    "    current_node = search_path[-1]\n",
    "    if current_node == end:\n",
    "        return [[]], visited_nodes\n",
    "\n",
    "    children = graph.children(current_node)\n",
    "    new_paths = [\n",
    "        search_path + [child] for child in children if child not in visited_nodes\n",
    "    ]\n",
    "    visited_nodes.update(children)\n",
    "    return new_paths, visited_nodes\n",
    "\n",
    "\n",
    "def find_path(graph: WeightedDirectedGraph, start: str, end: str) -> list[str]:\n",
    "    all_paths = [[start]]\n",
    "    visited_nodes = {start}\n",
    "    while (end not in visited_nodes) and (len(all_paths) != 0):\n",
    "        search_path = all_paths.pop(0)\n",
    "        new_paths, visited_nodes = iterate_aux(graph, search_path, visited_nodes, end)\n",
    "        all_paths.extend(new_paths)\n",
    "\n",
    "    if all_paths:\n",
    "        return [path for path in all_paths if path[-1] == end][0]\n",
    "\n",
    "    return []"
   ]
  },
  {
   "cell_type": "code",
   "execution_count": null,
   "metadata": {},
   "outputs": [],
   "source": [
    "graph = WeightedDirectedGraph.from_dict({\n",
    "    \"A\": {\"B\": 1, \"C\": 2},\n",
    "    \"B\": {\"C\": 0.2, \"D\": 2},\n",
    "    \"C\": {\"D\": 1},\n",
    "    \"D\": {}\n",
    "})\n",
    "# graph.add_reverse_edges(inplace=True)"
   ]
  },
  {
   "cell_type": "code",
   "execution_count": 2,
   "metadata": {},
   "outputs": [],
   "source": [
    "from pywgraph import WeightedDirectedGraph, WeightedDirectedEdge\n",
    "\n",
    "\n",
    "def graph() -> WeightedDirectedGraph:\n",
    "    nodes = {\"A\", \"B\", \"C\"}\n",
    "    edges = {\n",
    "        WeightedDirectedEdge(\"A\", \"B\", 7),\n",
    "        WeightedDirectedEdge(\"A\", \"C\", 9),\n",
    "        WeightedDirectedEdge(\"B\", \"C\", 10),\n",
    "    }\n",
    "    return WeightedDirectedGraph(nodes, edges)\n",
    "\n",
    "filled_graph = WeightedDirectedGraph(\n",
    "    {\"A\", \"B\", \"C\"},\n",
    "    {\n",
    "        WeightedDirectedEdge(\"A\", \"B\", 7),\n",
    "        WeightedDirectedEdge(\"B\", \"A\", 1 / 7),\n",
    "        WeightedDirectedEdge(\"A\", \"C\", 9),\n",
    "        WeightedDirectedEdge(\"C\", \"A\", 1 / 9),\n",
    "        WeightedDirectedEdge(\"B\", \"C\", 10),\n",
    "        WeightedDirectedEdge(\"C\", \"B\", 1 / 10),\n",
    "    },\n",
    ")"
   ]
  },
  {
   "cell_type": "code",
   "execution_count": 3,
   "metadata": {},
   "outputs": [],
   "source": [
    "graph().add_reverse_edges(inplace=True)"
   ]
  }
 ],
 "metadata": {
  "kernelspec": {
   "display_name": "Python 3",
   "language": "python",
   "name": "python3"
  },
  "language_info": {
   "codemirror_mode": {
    "name": "ipython",
    "version": 3
   },
   "file_extension": ".py",
   "mimetype": "text/x-python",
   "name": "python",
   "nbconvert_exporter": "python",
   "pygments_lexer": "ipython3",
   "version": "3.12.2"
  }
 },
 "nbformat": 4,
 "nbformat_minor": 2
}
