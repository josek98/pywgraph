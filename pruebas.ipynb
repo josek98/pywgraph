{
 "cells": [
  {
   "cell_type": "code",
   "execution_count": 4,
   "metadata": {},
   "outputs": [],
   "source": [
    "from pywgraph import * "
   ]
  },
  {
   "cell_type": "code",
   "execution_count": 2,
   "metadata": {},
   "outputs": [],
   "source": [
    "group = CommonGroups.RealMultiplicative\n",
    "group.strict_total_order_function = lambda x, y: abs(x) < abs(y)"
   ]
  },
  {
   "cell_type": "code",
   "execution_count": 3,
   "metadata": {},
   "outputs": [],
   "source": [
    "grafo = WeightedDirectedGraph.from_dict(\n",
    "    {\n",
    "        'A': {'B':2, 'D':8},\n",
    "        'B': {'D':5, 'E':6},\n",
    "        'D': {'E':3, 'F':2},\n",
    "        'E': {'F':1, 'C':9},\n",
    "        'F': {'C':3},\n",
    "        'C': {}\n",
    "    },\n",
    "    CommonGroups.RealAdditive\n",
    ")\n",
    "grafo.add_reverse_edges(inplace=True, method='mirror')"
   ]
  },
  {
   "cell_type": "code",
   "execution_count": 4,
   "metadata": {},
   "outputs": [
    {
     "data": {
      "text/plain": [
       "DijkstraResult(path=['B', 'D', 'F'], weight=7.0)"
      ]
     },
     "execution_count": 4,
     "metadata": {},
     "output_type": "execute_result"
    }
   ],
   "source": [
    "dij = Dijkstra(graph=grafo, start=\"A\")\n",
    "dij.shortest_path(\"B\", \"F\")"
   ]
  },
  {
   "cell_type": "code",
   "execution_count": 5,
   "metadata": {},
   "outputs": [
    {
     "data": {
      "text/plain": [
       "DijkstraResult(path=['A', 'B', 'D', 'F'], weight=9.0)"
      ]
     },
     "execution_count": 5,
     "metadata": {},
     "output_type": "execute_result"
    }
   ],
   "source": [
    "dij.shortest_path(\"A\", \"F\")"
   ]
  },
  {
   "cell_type": "code",
   "execution_count": 6,
   "metadata": {},
   "outputs": [],
   "source": [
    "\n",
    "dij.perform_dijkstra_algorithm()"
   ]
  }
 ],
 "metadata": {
  "kernelspec": {
   "display_name": "Python 3",
   "language": "python",
   "name": "python3"
  },
  "language_info": {
   "codemirror_mode": {
    "name": "ipython",
    "version": 3
   },
   "file_extension": ".py",
   "mimetype": "text/x-python",
   "name": "python",
   "nbconvert_exporter": "python",
   "pygments_lexer": "ipython3",
   "version": "3.12.3"
  }
 },
 "nbformat": 4,
 "nbformat_minor": 2
}
