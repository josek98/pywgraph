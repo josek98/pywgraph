{
 "cells": [
  {
   "cell_type": "code",
   "execution_count": 1,
   "metadata": {},
   "outputs": [],
   "source": [
    "from pywgraph import *"
   ]
  },
  {
   "cell_type": "code",
   "execution_count": 2,
   "metadata": {},
   "outputs": [],
   "source": [
    "grafo = WeightedDirectedGraph.from_dict(\n",
    "    {\n",
    "        \"A\": {\"B\": 1, \"F\": 1},\n",
    "        \"B\": {\"C\": 1, \"A\":1},\n",
    "        \"C\": {\"A\":1, \"D\":1},\n",
    "        \"D\": {\"A\":1, \"E\":1},\n",
    "        \"E\": {\"B\":1, \"F\": 1},\n",
    "        \"F\":{\"E\":1, \"A\":1}\n",
    "    }\n",
    ")"
   ]
  },
  {
   "cell_type": "code",
   "execution_count": 3,
   "metadata": {},
   "outputs": [],
   "source": [
    "from functools import cached_property\n",
    "\n",
    "\n",
    "def _cycle_representations(cycle: list[str]) -> list[list[str]]:\n",
    "    return [cycle[-i:] + cycle[:-i] for i in range(len(cycle))]\n",
    "\n",
    "\n",
    "def _canonic_representation(cycle: list[str]) -> list[str]:\n",
    "    first = min(cycle)\n",
    "    canonic_representation = [\n",
    "        representation\n",
    "        for representation in _cycle_representations(cycle)\n",
    "        if representation[0] == first\n",
    "    ][0]\n",
    "    return canonic_representation\n",
    "\n",
    "\n",
    "class Path(list[str]):\n",
    "    \"\"\"Class that represents a path\"\"\"\n",
    "\n",
    "    def __init__(self, path: list[str]) -> None:\n",
    "        if not path:\n",
    "            raise ValueError(\"A path can not be empty\")\n",
    "        if any(path[i] == path[i + 1] for i in range(len(path) - 1)):\n",
    "            raise ValueError(\"A path can not contain equal consecutive elements\")\n",
    "        super().__init__(path)\n",
    "        self._path = path\n",
    "\n",
    "    @property\n",
    "    def is_cycle(self) -> bool:\n",
    "        return self[0] == self[-1]\n",
    "\n",
    "    def __len__(self) -> int:\n",
    "        return super().__len__() - 1\n",
    "\n",
    "    def __hash__(self) -> int:  # type: ignore\n",
    "        return hash(\n",
    "            tuple(self)\n",
    "        )  # Mypy don't allow to override hash for list since lists are not hashable\n",
    "\n",
    "    def __bool__(self) -> bool:\n",
    "        return True\n",
    "\n",
    "\n",
    "class Cycle(Path):\n",
    "\n",
    "    def __init__(self, cycle: list[str]) -> None:\n",
    "        if cycle[0] != cycle[-1]:\n",
    "            raise ValueError(\"A cycle must start and end with the same element\")\n",
    "        super().__init__(cycle)\n",
    "\n",
    "        if len(cycle) == 1:\n",
    "            self._clean_cycle = cycle\n",
    "        else: \n",
    "            self._clean_cycle = cycle[:-1]\n",
    "\n",
    "    @cached_property\n",
    "    def canonic_representation(self) -> list[str]:\n",
    "        return _canonic_representation(self._clean_cycle)\n",
    "\n",
    "    @cached_property\n",
    "    def equivalent_representations(self) -> list[list[str]]:\n",
    "        return _cycle_representations(self._clean_cycle)\n",
    "\n",
    "    @classmethod\n",
    "    def from_path(cls, path: Path) -> \"Cycle\":\n",
    "        if path.is_cycle:\n",
    "            return cls(path._path)\n",
    "        else:\n",
    "            raise ValueError(\"The path is not a cycle\")\n",
    "\n",
    "    def __hash__(self) -> int:  # type: ignore\n",
    "        return hash(\n",
    "            tuple(self.canonic_representation)\n",
    "        )  # Mypy don't allow to override hash for list since lists are not hashable\n",
    "\n",
    "    def __eq__(self, other: object) -> bool:\n",
    "        other_ = other\n",
    "        if isinstance(other, Path):\n",
    "            other_ = Cycle.from_path(other)\n",
    "        if isinstance(other_, Cycle):\n",
    "            if len(other_) != len(self):\n",
    "                return False\n",
    "            return other_.canonic_representation == self.canonic_representation\n",
    "        return False\n",
    "\n",
    "    def __repr__(self) -> str:\n",
    "        return f\"Cycle({self.canonic_representation})\"\n",
    "\n",
    "\n",
    "class PathExplorer:\n",
    "    \"\"\"Auxiliary object to help in the searching of paths on a graph\"\"\"\n",
    "\n",
    "    def __init__(self, path: Path, visitations: dict[str, int] = {}) -> None:\n",
    "        self._path = path\n",
    "        self._visitations = visitations\n",
    "\n",
    "    @property\n",
    "    def path(self) -> Path:\n",
    "        return self._path\n",
    "\n",
    "    @property\n",
    "    def visitations(self) -> dict[str, int]:\n",
    "        return self._visitations\n",
    "\n",
    "    def __hash__(self) -> int:\n",
    "        hash_list = hash(tuple(self.path))\n",
    "        hash_dict = hash(\n",
    "            tuple(sorted(list(self.visitations.items()), key=lambda x: x[0]))\n",
    "        )\n",
    "        return hash_list ^ hash_dict\n",
    "\n",
    "    def __eq__(self, other: object) -> bool:\n",
    "        if isinstance(other, PathExplorer):\n",
    "            return (self.path, self.visitations) == (other.path, other.visitations)\n",
    "        return False\n",
    "\n",
    "    def __len__(self) -> int:\n",
    "        return len(self.path)\n",
    "\n",
    "    def __repr__(self) -> str:\n",
    "        return f\"PathExplorer({self.path}, {self.visitations})\""
   ]
  },
  {
   "cell_type": "code",
   "execution_count": 4,
   "metadata": {},
   "outputs": [],
   "source": [
    "def iter_aux(\n",
    "    grafo: WeightedDirectedGraph,\n",
    "    explorer: PathExplorer,\n",
    "    target: str,\n",
    "    general_max_visitations: int,\n",
    "    specific_max_visitations: dict[str, int],\n",
    ") -> tuple[Path, list[PathExplorer]]:\n",
    "    current_node = explorer.path[-1]\n",
    "    visitations = explorer.visitations.copy()\n",
    "    visitations[current_node] = visitations.get(current_node, 0) + 1\n",
    "    current_node_vistiations = visitations[current_node]\n",
    "    current_node_max_vistiations = specific_max_visitations.get(\n",
    "        current_node, general_max_visitations\n",
    "    )\n",
    "    found_path = [] \n",
    "    new_explorers = []\n",
    "\n",
    "    if current_node_vistiations > current_node_max_vistiations:\n",
    "        return found_path, new_explorers\n",
    "    \n",
    "    if current_node == target:\n",
    "        found_path = [explorer.path]\n",
    "\n",
    "    children = grafo.children(current_node)\n",
    "    forbidden_nodes = {\n",
    "        node\n",
    "        for node, rep in visitations.items()\n",
    "        if rep >= specific_max_visitations.get(node, general_max_visitations)\n",
    "    }\n",
    "    unexplored_nodes = children - forbidden_nodes\n",
    "    if not unexplored_nodes:\n",
    "        return found_path, new_explorers\n",
    "\n",
    "    new_explorers = [\n",
    "        PathExplorer(Path(explorer.path + [node]), visitations)\n",
    "        for node in unexplored_nodes\n",
    "    ]\n",
    "    return found_path, new_explorers"
   ]
  },
  {
   "cell_type": "code",
   "execution_count": 6,
   "metadata": {},
   "outputs": [
    {
     "ename": "NameError",
     "evalue": "name 'aa' is not defined",
     "output_type": "error",
     "traceback": [
      "\u001b[1;31m---------------------------------------------------------------------------\u001b[0m",
      "\u001b[1;31mNameError\u001b[0m                                 Traceback (most recent call last)",
      "Cell \u001b[1;32mIn[6], line 1\u001b[0m\n\u001b[1;32m----> 1\u001b[0m bb \u001b[38;5;241m=\u001b[39m [Cycle\u001b[38;5;241m.\u001b[39mfrom_path(a) \u001b[38;5;28;01mfor\u001b[39;00m a \u001b[38;5;129;01min\u001b[39;00m \u001b[43maa\u001b[49m]\n\u001b[0;32m      2\u001b[0m bb\n",
      "\u001b[1;31mNameError\u001b[0m: name 'aa' is not defined"
     ]
    }
   ],
   "source": [
    "bb = [Cycle.from_path(a) for a in aa]\n",
    "bb"
   ]
  },
  {
   "cell_type": "code",
   "execution_count": null,
   "metadata": {},
   "outputs": [],
   "source": [
    "grafo.get_node_cycles(\"A\") - {Cycle.from_path(x) for x in aa}\n"
   ]
  },
  {
   "cell_type": "code",
   "execution_count": null,
   "metadata": {},
   "outputs": [],
   "source": [
    "sorted(list(grafo.get_node_cycles(\"A\")), key=len)"
   ]
  },
  {
   "cell_type": "code",
   "execution_count": null,
   "metadata": {},
   "outputs": [],
   "source": [
    "class PathExplorer(list[str]):\n",
    "\n",
    "    def __init__(self, path: list[str] = [], visited: set[str] = set()):\n",
    "        self._path = path\n",
    "        self._visited = visited\n",
    "\n",
    "    @property\n",
    "    def path(self) -> list[str]:\n",
    "        return self._path\n",
    "    \n",
    "    @property\n",
    "    def visited(self) -> set[str]:\n",
    "        return self._visited\n",
    "    \n",
    "    def __hash__(self) -> int:\n",
    "        return hash((tuple(self.path), tuple(self.visited)))\n",
    "    \n",
    "    def __eq__(self, other: object) -> bool:\n",
    "        if isinstance(other, PathExplorer):\n",
    "            return (self.path, self.visited) == (other.path, other.visited)\n",
    "        return False\n",
    "    \n",
    "    def __repr__(self) -> str:\n",
    "        return f\"PathExplorer({self._path}, {self._visited})\"\n",
    "    \n",
    "    def __len__(self) -> int:\n",
    "        return len(self._path)"
   ]
  },
  {
   "cell_type": "code",
   "execution_count": null,
   "metadata": {},
   "outputs": [],
   "source": [
    "def _cycle_aux(\n",
    "    grafo: WeightedDirectedGraph, explorer: PathExplorer, target: str\n",
    ") -> tuple[list, str] | tuple[Cycle, str]:\n",
    "    current_node = explorer.path[-1]\n",
    "    if current_node == target:\n",
    "        return Cycle(explorer.path[:-1]), \"cycle\"\n",
    "    \n",
    "    children = grafo.children(current_node)\n",
    "    unexplored_nodes = children - explorer.visited\n",
    "    if not unexplored_nodes:\n",
    "        return [], \"dead explorer\"\n",
    "    \n",
    "    updated_visited = explorer.visited | {current_node}\n",
    "    new_explorers = [\n",
    "        PathExplorer(explorer.path + [node], updated_visited)\n",
    "        for node in unexplored_nodes\n",
    "    ]\n",
    "    return new_explorers, \"continue\""
   ]
  },
  {
   "cell_type": "code",
   "execution_count": null,
   "metadata": {},
   "outputs": [],
   "source": [
    "def _get_node_cycles(grafo: WeightedDirectedGraph, start: str) -> list[list[str]]:\n",
    "    first_children = grafo.children(start)\n",
    "    if not first_children:\n",
    "        return []\n",
    "\n",
    "    explorers: list[PathExplorer] = [\n",
    "        PathExplorer([start, child]) for child in first_children\n",
    "    ]\n",
    "    cycles: list[Cycle] = []\n",
    "\n",
    "    while explorers: \n",
    "        result, state = _cycle_aux(grafo, explorers.pop(0), start)                              \n",
    "        if state == \"cycle\":\n",
    "            cycles.append(result)\n",
    "        elif state == \"continue\":\n",
    "            new_explorers = list(set(result) - set(explorers))\n",
    "            explorers.extend(new_explorers)\n",
    "\n",
    "    return cycles"
   ]
  },
  {
   "cell_type": "code",
   "execution_count": null,
   "metadata": {},
   "outputs": [],
   "source": [
    "def _path_aux(\n",
    "    grafo: WeightedDirectedGraph, explorer: PathExplorer, target: str\n",
    ") -> tuple[list, str] | tuple[Cycle, str]:\n",
    "    current_node = explorer.path[-1]\n",
    "    if current_node == target:\n",
    "        return explorer.path, \"path\"\n",
    "    \n",
    "    children = grafo.children(current_node)\n",
    "    unexplored_nodes = children - explorer.visited\n",
    "    if not unexplored_nodes:\n",
    "        return [], \"dead explorer\"\n",
    "    \n",
    "    updated_visited = explorer.visited | {current_node}\n",
    "    new_explorers = [\n",
    "        PathExplorer(explorer.path + [node], updated_visited)\n",
    "        for node in unexplored_nodes\n",
    "    ]\n",
    "    return new_explorers, \"continue\""
   ]
  },
  {
   "cell_type": "code",
   "execution_count": null,
   "metadata": {},
   "outputs": [],
   "source": [
    "def _find_all_paths(grafo: WeightedDirectedGraph, start: str, end: str) -> list[list[str]]:\n",
    "    first_children = grafo.children(start)\n",
    "    if not first_children:\n",
    "        return []\n",
    "\n",
    "    explorers: list[PathExplorer] = [\n",
    "        PathExplorer([start, child]) for child in first_children\n",
    "    ]\n",
    "    all_paths: list[list[str]] = []\n",
    "\n",
    "    while explorers:\n",
    "        result, state = _path_aux(grafo, explorers.pop(0), end)                  \n",
    "        if state == \"path\":\n",
    "            all_paths.append(result)\n",
    "        elif state == \"continue\":\n",
    "            new_explorers = list(set(result) - set(explorers))\n",
    "            explorers.extend(new_explorers)\n",
    "\n",
    "    return all_paths"
   ]
  },
  {
   "cell_type": "code",
   "execution_count": null,
   "metadata": {},
   "outputs": [],
   "source": [
    "grafo.get_node_cycles(\"A\")"
   ]
  },
  {
   "cell_type": "code",
   "execution_count": null,
   "metadata": {},
   "outputs": [],
   "source": [
    "_find_all_paths(grafo, \"A\", \"F\")"
   ]
  },
  {
   "cell_type": "code",
   "execution_count": null,
   "metadata": {},
   "outputs": [],
   "source": [
    "grafo.get_node_cycles(\"B\")"
   ]
  },
  {
   "cell_type": "code",
   "execution_count": null,
   "metadata": {},
   "outputs": [],
   "source": [
    "grafo.get_node_cycles(\"C\")"
   ]
  },
  {
   "cell_type": "code",
   "execution_count": null,
   "metadata": {},
   "outputs": [],
   "source": [
    "grafo.get_node_cycles(\"D\")"
   ]
  },
  {
   "cell_type": "code",
   "execution_count": null,
   "metadata": {},
   "outputs": [],
   "source": [
    "grafo.get_node_cycles(\"E\")"
   ]
  },
  {
   "cell_type": "code",
   "execution_count": null,
   "metadata": {},
   "outputs": [],
   "source": [
    "grafo.get_node_cycles(\"F\")"
   ]
  },
  {
   "cell_type": "code",
   "execution_count": null,
   "metadata": {},
   "outputs": [],
   "source": [
    "grafo.cycles"
   ]
  },
  {
   "cell_type": "code",
   "execution_count": null,
   "metadata": {},
   "outputs": [],
   "source": [
    "def vector_group_multiplication() -> Group:\n",
    "    group = Group(\n",
    "        name=\"Vectors of dimension 2 with multiplication\",\n",
    "        identity=np.ones(2),\n",
    "        operation=lambda x, y: x * y,\n",
    "        inverse_function=lambda x: 1 / x,\n",
    "        hash_function=lambda x: hash(tuple(x)),\n",
    "    )\n",
    "    return group\n",
    "\n",
    "\n",
    "def vector_group_addition() -> Group:\n",
    "    group = Group(\n",
    "        name=\"Vectors of dimension 2 with addition\",\n",
    "        identity=np.zeros(2),\n",
    "        operation=lambda x, y: x + y,\n",
    "        inverse_function=lambda x: -x,\n",
    "        hash_function=lambda x: hash(tuple(x)),\n",
    "    )\n",
    "    return group\n",
    "\n",
    "\n",
    "_array_dict_graph: dict[str, dict[str, Any]] = {\n",
    "    \"A\": {\n",
    "        \"B\": np.array([1.0, 2.0]),\n",
    "        \"C\": np.array([3.0, 4.0]),\n",
    "    },\n",
    "    \"B\": {\n",
    "        \"C\": np.array([-5.0, 1.3]),\n",
    "        \"D\": np.array([2.0, 1.0]),\n",
    "    },\n",
    "    \"C\": {\n",
    "        \"D\": np.array([-1.0, 1.0]),\n",
    "    },\n",
    "    \"D\": {},\n",
    "    \"Z\": {},\n",
    "}\n",
    "\n",
    "\n",
    "def multiplication_graph() -> WeightedDirectedGraph:\n",
    "    graph = WeightedDirectedGraph.from_dict(\n",
    "        _array_dict_graph, vector_group_multiplication()\n",
    "    )\n",
    "    return graph\n",
    "\n",
    "\n",
    "def addition_graph() -> WeightedDirectedGraph:\n",
    "    graph = WeightedDirectedGraph.from_dict(_array_dict_graph, vector_group_addition())\n",
    "    return graph"
   ]
  },
  {
   "cell_type": "code",
   "execution_count": null,
   "metadata": {},
   "outputs": [],
   "source": [
    "addition_graph().add_reverse_edges().is_conmutative"
   ]
  },
  {
   "cell_type": "code",
   "execution_count": null,
   "metadata": {},
   "outputs": [],
   "source": [
    "complete_graph = addition_graph().add_reverse_edges()\n",
    "group = complete_graph.group\n",
    "identity = group.identity\n",
    "bad = [\n",
    "    cycle\n",
    "    for cycle in complete_graph.cycles\n",
    "    if not group.equal(complete_graph.path_weight(cycle), identity)\n",
    "]\n",
    "bad "
   ]
  },
  {
   "cell_type": "code",
   "execution_count": null,
   "metadata": {},
   "outputs": [],
   "source": [
    "[\n",
    "    complete_graph.path_weight(cycle)\n",
    "    for cycle in bad\n",
    "]"
   ]
  },
  {
   "cell_type": "code",
   "execution_count": null,
   "metadata": {},
   "outputs": [],
   "source": [
    "complete_graph"
   ]
  },
  {
   "cell_type": "code",
   "execution_count": null,
   "metadata": {},
   "outputs": [],
   "source": [
    "todos = set()\n",
    "for node in complete_graph.nodes: \n",
    "    todos.update(complete_graph.get_node_cycles(node))\n",
    "\n",
    "todos"
   ]
  },
  {
   "cell_type": "code",
   "execution_count": null,
   "metadata": {},
   "outputs": [],
   "source": [
    "[cycle for cycle in complete_graph.cycles]"
   ]
  },
  {
   "cell_type": "code",
   "execution_count": null,
   "metadata": {},
   "outputs": [],
   "source": [
    "grafo = WeightedDirectedGraph.from_dict(\n",
    "    {\n",
    "        \"A\": {\"B\": np.array([1, 2.0]), \"C\": np.array([3.0, 4.0])},\n",
    "        \"B\": {\"C\": np.array([2.0, 2.0])},\n",
    "        \"C\": {},\n",
    "    },\n",
    "    vector_group_addition(),\n",
    ")"
   ]
  },
  {
   "cell_type": "code",
   "execution_count": null,
   "metadata": {},
   "outputs": [],
   "source": [
    "grafo.add_reverse_edges().cycles"
   ]
  }
 ],
 "metadata": {
  "kernelspec": {
   "display_name": "Python 3",
   "language": "python",
   "name": "python3"
  },
  "language_info": {
   "codemirror_mode": {
    "name": "ipython",
    "version": 3
   },
   "file_extension": ".py",
   "mimetype": "text/x-python",
   "name": "python",
   "nbconvert_exporter": "python",
   "pygments_lexer": "ipython3",
   "version": "3.12.2"
  }
 },
 "nbformat": 4,
 "nbformat_minor": 2
}
