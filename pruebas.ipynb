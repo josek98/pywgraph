{
 "cells": [
  {
   "cell_type": "code",
   "execution_count": 138,
   "metadata": {},
   "outputs": [],
   "source": [
    "from pywgraph import *"
   ]
  },
  {
   "cell_type": "code",
   "execution_count": 139,
   "metadata": {},
   "outputs": [],
   "source": [
    "grafo = WeightedDirectedGraph.from_dict(\n",
    "    {\n",
    "        \"A\": {\"B\": 1, \"F\": 1},\n",
    "        \"B\": {\"C\": 1, \"A\":1},\n",
    "        \"C\": {\"A\":1, \"D\":1},\n",
    "        \"D\": {\"A\":1},\n",
    "        \"E\": {\"B\":1},\n",
    "        \"F\":{\"E\":1}\n",
    "    }\n",
    ")"
   ]
  },
  {
   "cell_type": "code",
   "execution_count": 140,
   "metadata": {},
   "outputs": [],
   "source": [
    "class PathExplorer(list[str]):\n",
    "\n",
    "    def __init__(self, path: list[str] = [], visited: set[str] = set()):\n",
    "        self._path = path\n",
    "        self._visited = visited\n",
    "\n",
    "    @property\n",
    "    def path(self) -> list[str]:\n",
    "        return self._path\n",
    "    \n",
    "    @property\n",
    "    def visited(self) -> set[str]:\n",
    "        return self._visited\n",
    "    \n",
    "    def __hash__(self) -> int:\n",
    "        return hash((tuple(self.path), tuple(self.visited)))\n",
    "    \n",
    "    def __eq__(self, other: object) -> bool:\n",
    "        if isinstance(other, PathExplorer):\n",
    "            return (self.path, self.visited) == (other.path, other.visited)\n",
    "        return False\n",
    "    \n",
    "    def __repr__(self) -> str:\n",
    "        return f\"PathExplorer({self._path}, {self._visited})\"\n",
    "    \n",
    "    def __len__(self) -> int:\n",
    "        return len(self._path)"
   ]
  },
  {
   "cell_type": "code",
   "execution_count": 141,
   "metadata": {},
   "outputs": [],
   "source": [
    "def cycle_aux(\n",
    "    grafo: WeightedDirectedGraph, explorer: PathExplorer, target: str\n",
    ") -> tuple[list, str]:\n",
    "    current_node = explorer.path[-1]\n",
    "    if current_node == target:\n",
    "        return explorer.path, \"cycle\"\n",
    "    \n",
    "    children = grafo.children(current_node)\n",
    "    unexplored_nodes = children - explorer.visited\n",
    "    if not unexplored_nodes:\n",
    "        return [], \"dead explorer\"\n",
    "    \n",
    "    updated_visited = explorer.visited | {current_node}\n",
    "    new_explorers = [\n",
    "        PathExplorer(explorer.path + [node], updated_visited)\n",
    "        for node in unexplored_nodes\n",
    "    ]\n",
    "    return new_explorers, \"continue\""
   ]
  },
  {
   "cell_type": "code",
   "execution_count": 142,
   "metadata": {},
   "outputs": [],
   "source": [
    "def find_cycles(grafo: WeightedDirectedGraph, start: str) -> list[list[str]]:\n",
    "    first_children = grafo.children(start)\n",
    "    if not first_children:\n",
    "        return []\n",
    "\n",
    "    explorers: list[PathExplorer] = [\n",
    "        PathExplorer([start, child]) for child in first_children\n",
    "    ]\n",
    "    cycles: list[list[str]] = []\n",
    "\n",
    "    while explorers: \n",
    "        result, state = cycle_aux(grafo, explorers.pop(0), start)\n",
    "        if state == \"cycle\":\n",
    "            cycles.append(result)\n",
    "        elif state == \"dead explorer\":\n",
    "            pass\n",
    "        else: \n",
    "            new_explorers = list(set(explorers) - set(result))\n",
    "            explorers.extend(result)\n",
    "\n",
    "    return cycles"
   ]
  },
  {
   "cell_type": "code",
   "execution_count": 143,
   "metadata": {},
   "outputs": [
    {
     "data": {
      "text/plain": [
       "[['A', 'B', 'A'],\n",
       " ['A', 'B', 'C', 'A'],\n",
       " ['A', 'F', 'E', 'B', 'A'],\n",
       " ['A', 'B', 'C', 'D', 'A'],\n",
       " ['A', 'F', 'E', 'B', 'C', 'A'],\n",
       " ['A', 'F', 'E', 'B', 'C', 'D', 'A']]"
      ]
     },
     "execution_count": 143,
     "metadata": {},
     "output_type": "execute_result"
    }
   ],
   "source": [
    "find_cycles(grafo, \"A\")"
   ]
  },
  {
   "cell_type": "code",
   "execution_count": 144,
   "metadata": {},
   "outputs": [
    {
     "data": {
      "text/plain": [
       "[['B', 'A', 'B'],\n",
       " ['B', 'C', 'A', 'B'],\n",
       " ['B', 'A', 'F', 'E', 'B'],\n",
       " ['B', 'C', 'D', 'A', 'B'],\n",
       " ['B', 'C', 'A', 'F', 'E', 'B'],\n",
       " ['B', 'C', 'D', 'A', 'F', 'E', 'B']]"
      ]
     },
     "execution_count": 144,
     "metadata": {},
     "output_type": "execute_result"
    }
   ],
   "source": [
    "find_cycles(grafo, \"B\")"
   ]
  },
  {
   "cell_type": "code",
   "execution_count": 145,
   "metadata": {},
   "outputs": [
    {
     "data": {
      "text/plain": [
       "[['C', 'A', 'B', 'C'],\n",
       " ['C', 'D', 'A', 'B', 'C'],\n",
       " ['C', 'A', 'F', 'E', 'B', 'C'],\n",
       " ['C', 'D', 'A', 'F', 'E', 'B', 'C']]"
      ]
     },
     "execution_count": 145,
     "metadata": {},
     "output_type": "execute_result"
    }
   ],
   "source": [
    "find_cycles(grafo, \"C\")"
   ]
  },
  {
   "cell_type": "code",
   "execution_count": 146,
   "metadata": {},
   "outputs": [
    {
     "data": {
      "text/plain": [
       "[['D', 'A', 'B', 'C', 'D'], ['D', 'A', 'F', 'E', 'B', 'C', 'D']]"
      ]
     },
     "execution_count": 146,
     "metadata": {},
     "output_type": "execute_result"
    }
   ],
   "source": [
    "find_cycles(grafo, \"D\")"
   ]
  },
  {
   "cell_type": "code",
   "execution_count": 147,
   "metadata": {},
   "outputs": [
    {
     "data": {
      "text/plain": [
       "[['E', 'B', 'A', 'F', 'E'],\n",
       " ['E', 'B', 'C', 'A', 'F', 'E'],\n",
       " ['E', 'B', 'C', 'D', 'A', 'F', 'E']]"
      ]
     },
     "execution_count": 147,
     "metadata": {},
     "output_type": "execute_result"
    }
   ],
   "source": [
    "find_cycles(grafo, \"E\")"
   ]
  },
  {
   "cell_type": "code",
   "execution_count": 148,
   "metadata": {},
   "outputs": [
    {
     "data": {
      "text/plain": [
       "[['F', 'E', 'B', 'A', 'F'],\n",
       " ['F', 'E', 'B', 'C', 'A', 'F'],\n",
       " ['F', 'E', 'B', 'C', 'D', 'A', 'F']]"
      ]
     },
     "execution_count": 148,
     "metadata": {},
     "output_type": "execute_result"
    }
   ],
   "source": [
    "find_cycles(grafo, \"F\")"
   ]
  },
  {
   "cell_type": "code",
   "execution_count": 149,
   "metadata": {},
   "outputs": [
    {
     "data": {
      "text/plain": [
       "[['F', 'E', 'B', 'A'],\n",
       " ['A', 'F', 'E', 'B'],\n",
       " ['B', 'A', 'F', 'E'],\n",
       " ['E', 'B', 'A', 'F']]"
      ]
     },
     "execution_count": 149,
     "metadata": {},
     "output_type": "execute_result"
    }
   ],
   "source": [
    "ciclo_1 = ['F', 'E', 'B', 'A', 'F']\n",
    "ciclo_2 = ['E', 'B', 'A', 'F', 'E']\n",
    "\n",
    "cleaned_1 = ciclo_1[:-1]\n",
    "cleaned_2 = ciclo_2[:-1]\n",
    "\n",
    "[cleaned_1[-i:] + cleaned_1[:-i] for i in range(len(cleaned_1))]"
   ]
  },
  {
   "cell_type": "code",
   "execution_count": 181,
   "metadata": {},
   "outputs": [],
   "source": [
    "from functools import cached_property\n",
    "\n",
    "def _cycle_representations(cycle: list[str]) -> list[list[str]]:\n",
    "    return [cycle[-i:] + cycle[:-i] for i in range(len(cycle))]\n",
    "\n",
    "def _canonic_representation(cycle: list[str]) -> list[str]:\n",
    "    first = min(cycle)\n",
    "    canonic_representation = [\n",
    "        representation\n",
    "        for representation in _cycle_representations(cycle)\n",
    "        if representation[0] == first\n",
    "    ][0]\n",
    "    return canonic_representation\n",
    "\n",
    "\n",
    "class Cycle:\n",
    "\n",
    "    def __init__(self, cycle: list[str]) -> None: \n",
    "        if len(cycle) < 2:\n",
    "            raise ValueError(\"Cycle must have at least two elements\")\n",
    "        if cycle[0] == cycle[-1]:\n",
    "            raise ValueError(\"Cycle can not contain equal consecutive elements\")\n",
    "        if any(cycle[i] == cycle[i+1] for i in range(len(cycle) - 1)):\n",
    "            raise ValueError(\"Cycle can not contain equal consecutive elements\")\n",
    "\n",
    "        self._cycle = cycle\n",
    "\n",
    "    @cached_property\n",
    "    def cycle(self) -> list[str]:\n",
    "        return _canonic_representation(self._cycle)\n",
    "    \n",
    "    @cached_property\n",
    "    def equivalent_representations(self) -> list[list[str]]:\n",
    "        return _cycle_representations(self._cycle)\n",
    "    \n",
    "    def __len__(self) -> int:\n",
    "        return len(self._cycle)\n",
    "    \n",
    "    def __hash__(self) -> int:\n",
    "        return hash(tuple(self.cycle))\n",
    "    \n",
    "    def __eq__(self, other: object) -> bool:\n",
    "        if isinstance(other, Cycle):\n",
    "            if len(other) != len(self):\n",
    "                return False\n",
    "            return other.cycle in self.equivalent_representations\n",
    "        return False\n",
    "    \n",
    "    def __repr__(self) -> str:\n",
    "        return f\"Cycle({self.cycle})\"\n",
    "    \n"
   ]
  },
  {
   "cell_type": "code",
   "execution_count": 182,
   "metadata": {},
   "outputs": [],
   "source": [
    "a = Cycle([\"A\", \"B\", \"C\"])\n",
    "b = Cycle([\"B\", \"C\", \"A\"])"
   ]
  },
  {
   "cell_type": "code",
   "execution_count": 183,
   "metadata": {},
   "outputs": [
    {
     "data": {
      "text/plain": [
       "{Cycle(['A', 'B', 'C'])}"
      ]
     },
     "execution_count": 183,
     "metadata": {},
     "output_type": "execute_result"
    }
   ],
   "source": [
    "{b, b, a}"
   ]
  },
  {
   "cell_type": "code",
   "execution_count": 184,
   "metadata": {},
   "outputs": [
    {
     "data": {
      "text/plain": [
       "{1}"
      ]
     },
     "execution_count": 184,
     "metadata": {},
     "output_type": "execute_result"
    }
   ],
   "source": [
    "{1, 1}"
   ]
  },
  {
   "cell_type": "code",
   "execution_count": 174,
   "metadata": {},
   "outputs": [],
   "source": []
  },
  {
   "cell_type": "code",
   "execution_count": 171,
   "metadata": {},
   "outputs": [
    {
     "data": {
      "text/plain": [
       "'A'"
      ]
     },
     "execution_count": 171,
     "metadata": {},
     "output_type": "execute_result"
    }
   ],
   "source": [
    "min([\"B\", \"C\", \"A\"])"
   ]
  }
 ],
 "metadata": {
  "kernelspec": {
   "display_name": "Python 3",
   "language": "python",
   "name": "python3"
  },
  "language_info": {
   "codemirror_mode": {
    "name": "ipython",
    "version": 3
   },
   "file_extension": ".py",
   "mimetype": "text/x-python",
   "name": "python",
   "nbconvert_exporter": "python",
   "pygments_lexer": "ipython3",
   "version": "3.12.2"
  }
 },
 "nbformat": 4,
 "nbformat_minor": 2
}
