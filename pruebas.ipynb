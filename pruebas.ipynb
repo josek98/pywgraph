{
 "cells": [
  {
   "cell_type": "code",
   "execution_count": 1,
   "metadata": {},
   "outputs": [],
   "source": [
    "from pywgraph import WeightedDirectedGraph, WeightedDirectedEdge, Group\n",
    "import numpy as np "
   ]
  },
  {
   "cell_type": "code",
   "execution_count": 2,
   "metadata": {},
   "outputs": [],
   "source": [
    "r3_group = Group(\n",
    "    \"R^3\", np.ones(3), lambda x, y: x * y, lambda x, y: x / y, lambda x: hash(tuple(x))\n",
    ")\n",
    "graph = WeightedDirectedGraph.from_dict(\n",
    "    dict={\n",
    "        \"EUR\": {\"USD\": np.array([0.8, 0.9, 1.1]), \"GBP\": np.array([1.2, 1.3, 1.4])},\n",
    "        \"USD\": {\"GBP\": np.array([0.7, 0.8, 0.9]), \"JPY\": np.array([110, 120, 130])},\n",
    "        \"GBP\": {\"JPY\": np.array([150, 160, 170])},\n",
    "        \"JPY\": {},\n",
    "    },\n",
    "    group=r3_group,\n",
    ")"
   ]
  },
  {
   "cell_type": "code",
   "execution_count": 3,
   "metadata": {},
   "outputs": [
    {
     "data": {
      "text/plain": [
       "array([1., 1., 1.])"
      ]
     },
     "execution_count": 3,
     "metadata": {},
     "output_type": "execute_result"
    }
   ],
   "source": [
    "graph.find_path(\"GBP\", \"GBP\")\n",
    "graph.path_weight([\"GBP\"])"
   ]
  },
  {
   "cell_type": "code",
   "execution_count": 4,
   "metadata": {},
   "outputs": [],
   "source": [
    "r_22_matrix = Group(\n",
    "    name=\"R2x2 matrices with multiplication\", \n",
    "    neutral_element=np.identity(2),\n",
    "    operation=lambda x,y : x*y, \n",
    "    inverse_operation=lambda x,y : x/y,\n",
    "    hash_function=lambda x: hash(tuple(x.flatten()))\n",
    ")\n",
    "\n",
    "matrix_graph = WeightedDirectedGraph.from_dict(\n",
    "    dict={\n",
    "        \"A\": {\"B\": np.array([[1, 2], [3, 4]]), \"D\": np.array([[2,4], [0.5, 1]])},\n",
    "        \"B\": {\"C\": np.array([[5, 6], [7, 8]])},\n",
    "        \"C\": {\"D\": np.array([[9, 10], [-6, -1.3]])},\n",
    "        \"D\": {},\n",
    "    },\n",
    "    group=r_22_matrix,\n",
    ")"
   ]
  },
  {
   "cell_type": "code",
   "execution_count": 5,
   "metadata": {},
   "outputs": [],
   "source": [
    "def _check_nodes_in_edges(\n",
    "    nodes: set[str],\n",
    "    edges: set[WeightedDirectedEdge],\n",
    ") -> bool:\n",
    "    edge_nodes = set().union(*[{edge.start, edge.end} for edge in edges])\n",
    "    return edge_nodes <= nodes"
   ]
  },
  {
   "cell_type": "code",
   "execution_count": 7,
   "metadata": {},
   "outputs": [],
   "source": [
    "from typing import Any\n",
    "from pywgraph import Group\n",
    "\n",
    "def vector_group_multiplication() -> Group: \n",
    "    group = Group(\n",
    "        name=\"Vectors of dimension 2 with multiplication\",\n",
    "        neutral_element=np.ones(2),\n",
    "        operation=lambda x,y:x*y,\n",
    "        inverse_operation=lambda x, y: x/y,\n",
    "        hash_function=lambda x: hash(tuple(x))\n",
    "    )\n",
    "    return group\n",
    "\n",
    "_array_dict_graph: dict[str, dict[str, Any]] = {\n",
    "    \"A\":{\n",
    "        \"B\":np.array([1, 2]),\n",
    "        \"C\":np.array([3, 4]),\n",
    "    },\n",
    "    \"B\":{\n",
    "        \"C\":np.array([-5,1.3]),\n",
    "        \"D\":np.array([2, 1]),\n",
    "    },\n",
    "    \"C\":{\n",
    "        \"D\":np.array([-1, 1]),\n",
    "    },\n",
    "    \"D\":{},\n",
    "    \"Z\":{}\n",
    "}\n",
    "\n",
    "def multiplication_graph() -> WeightedDirectedGraph:\n",
    "    graph = WeightedDirectedGraph.from_dict(\n",
    "        _array_dict_graph,\n",
    "        vector_group_multiplication()\n",
    "    )\n",
    "    return graph"
   ]
  },
  {
   "cell_type": "code",
   "execution_count": 12,
   "metadata": {},
   "outputs": [
    {
     "data": {
      "text/plain": [
       "True"
      ]
     },
     "execution_count": 12,
     "metadata": {},
     "output_type": "execute_result"
    }
   ],
   "source": [
    "_check_nodes_in_edges(multiplication_graph().nodes, multiplication_graph().edges)"
   ]
  }
 ],
 "metadata": {
  "kernelspec": {
   "display_name": "Python 3",
   "language": "python",
   "name": "python3"
  },
  "language_info": {
   "codemirror_mode": {
    "name": "ipython",
    "version": 3
   },
   "file_extension": ".py",
   "mimetype": "text/x-python",
   "name": "python",
   "nbconvert_exporter": "python",
   "pygments_lexer": "ipython3",
   "version": "3.12.2"
  }
 },
 "nbformat": 4,
 "nbformat_minor": 2
}
