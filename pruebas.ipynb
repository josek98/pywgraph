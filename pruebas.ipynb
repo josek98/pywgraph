{
 "cells": [
  {
   "cell_type": "code",
   "execution_count": 1,
   "metadata": {},
   "outputs": [],
   "source": [
    "from pywgraph import WeightedDirectedGraph, WeightedDirectedEdge, Group\n",
    "import numpy as np "
   ]
  },
  {
   "cell_type": "code",
   "execution_count": 2,
   "metadata": {},
   "outputs": [],
   "source": [
    "r3_group = Group(\"R^3\", np.zeros(3), lambda x, y: x + y, lambda x, y: x - y, lambda x: hash(tuple(x)))\n",
    "graph = WeightedDirectedGraph(\n",
    "    {\"EUR\", \"USD\", \"GBP\"},\n",
    "    {\n",
    "        WeightedDirectedEdge(\"EUR\", \"USD\", np.array([1.1, 1.2, 1.3]), r3_group),\n",
    "        WeightedDirectedEdge(\"USD\", \"GBP\", np.array([0.9, 1.0, 0.8]), r3_group),\n",
    "    }\n",
    ")"
   ]
  },
  {
   "cell_type": "code",
   "execution_count": 3,
   "metadata": {},
   "outputs": [
    {
     "data": {
      "text/plain": [
       "Nodes: {'GBP', 'USD', 'EUR'}\n",
       "Edges:\n",
       "USD -> GBP: [0.9 1.  0.8]\n",
       "EUR -> USD: [1.1 1.2 1.3]"
      ]
     },
     "execution_count": 3,
     "metadata": {},
     "output_type": "execute_result"
    }
   ],
   "source": [
    "graph"
   ]
  }
 ],
 "metadata": {
  "kernelspec": {
   "display_name": "Python 3",
   "language": "python",
   "name": "python3"
  },
  "language_info": {
   "codemirror_mode": {
    "name": "ipython",
    "version": 3
   },
   "file_extension": ".py",
   "mimetype": "text/x-python",
   "name": "python",
   "nbconvert_exporter": "python",
   "pygments_lexer": "ipython3",
   "version": "3.12.2"
  }
 },
 "nbformat": 4,
 "nbformat_minor": 2
}
