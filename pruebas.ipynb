{
 "cells": [
  {
   "cell_type": "code",
   "execution_count": 1,
   "metadata": {},
   "outputs": [],
   "source": [
    "from pywgraph import *"
   ]
  },
  {
   "cell_type": "code",
   "execution_count": 2,
   "metadata": {},
   "outputs": [],
   "source": [
    "grafo = WeightedDirectedGraph.from_dict(\n",
    "    {\n",
    "        \"A\": {\"B\": 2, \"F\": 1},\n",
    "        \"B\": {\"C\": 1, \"A\":1},\n",
    "        \"C\": {\"A\":1, \"D\":1},\n",
    "        \"D\": {\"A\":1, \"E\":1},\n",
    "        \"E\": {\"B\":1, \"F\": 1},\n",
    "        \"F\":{\"E\":1, \"A\":1}\n",
    "    }\n",
    ")"
   ]
  },
  {
   "cell_type": "code",
   "execution_count": 7,
   "metadata": {},
   "outputs": [
    {
     "data": {
      "text/plain": [
       "{Cycle(['A']),\n",
       " Cycle(['A', 'B']),\n",
       " Cycle(['A', 'B', 'C']),\n",
       " Cycle(['A', 'B', 'C', 'D']),\n",
       " Cycle(['A', 'B', 'C', 'D', 'E', 'F']),\n",
       " Cycle(['A', 'F']),\n",
       " Cycle(['A', 'F', 'E', 'B']),\n",
       " Cycle(['A', 'F', 'E', 'B', 'C']),\n",
       " Cycle(['A', 'F', 'E', 'B', 'C', 'D'])}"
      ]
     },
     "execution_count": 7,
     "metadata": {},
     "output_type": "execute_result"
    }
   ],
   "source": [
    "set(grafo.get_node_cycles(\"A\"))"
   ]
  },
  {
   "cell_type": "code",
   "execution_count": 8,
   "metadata": {},
   "outputs": [
    {
     "data": {
      "text/plain": [
       "{['A'],\n",
       " ['A', 'B', 'A'],\n",
       " ['A', 'B', 'C', 'A'],\n",
       " ['A', 'B', 'C', 'D', 'A'],\n",
       " ['A', 'B', 'C', 'D', 'E', 'F', 'A'],\n",
       " ['A', 'F', 'A'],\n",
       " ['A', 'F', 'E', 'B', 'A'],\n",
       " ['A', 'F', 'E', 'B', 'C', 'A'],\n",
       " ['A', 'F', 'E', 'B', 'C', 'D', 'A']}"
      ]
     },
     "execution_count": 8,
     "metadata": {},
     "output_type": "execute_result"
    }
   ],
   "source": [
    "set(grafo.find_paths(\"A\",\"A\", 1, {\"A\":2}))"
   ]
  },
  {
   "cell_type": "code",
   "execution_count": 10,
   "metadata": {},
   "outputs": [
    {
     "data": {
      "text/plain": [
       "[['A'], ['A', 'B', 'A'], ['A', 'B', 'C', 'B', 'A']]"
      ]
     },
     "execution_count": 10,
     "metadata": {},
     "output_type": "execute_result"
    }
   ],
   "source": [
    "def graph() -> WeightedDirectedGraph:\n",
    "    _dict = {\n",
    "        \"A\":{\"B\":1},\n",
    "        \"B\":{\"C\":1},\n",
    "        \"C\":{},\n",
    "        \"Z\":{}\n",
    "    }\n",
    "    return WeightedDirectedGraph.from_dict(_dict).add_reverse_edges()\n",
    "\n",
    "graph().find_paths(\"A\", \"A\", general_max_visitations=2)"
   ]
  },
  {
   "cell_type": "code",
   "execution_count": 11,
   "metadata": {},
   "outputs": [
    {
     "data": {
      "text/plain": [
       "[Cycle(['A']), Cycle(['A', 'B'])]"
      ]
     },
     "execution_count": 11,
     "metadata": {},
     "output_type": "execute_result"
    }
   ],
   "source": [
    "graph().get_node_cycles(\"A\")"
   ]
  },
  {
   "cell_type": "code",
   "execution_count": 6,
   "metadata": {},
   "outputs": [
    {
     "data": {
      "text/plain": [
       "True"
      ]
     },
     "execution_count": 6,
     "metadata": {},
     "output_type": "execute_result"
    }
   ],
   "source": [
    "Cycle([\"A\",\"B\",\"A\"]) == Path([\"A\",\"B\",\"A\"])"
   ]
  },
  {
   "cell_type": "code",
   "execution_count": null,
   "metadata": {},
   "outputs": [],
   "source": [
    "sorted(list(grafo.get_node_cycles(\"A\")), key=len)"
   ]
  },
  {
   "cell_type": "code",
   "execution_count": null,
   "metadata": {},
   "outputs": [],
   "source": [
    "class PathExplorer(list[str]):\n",
    "\n",
    "    def __init__(self, path: list[str] = [], visited: set[str] = set()):\n",
    "        self._path = path\n",
    "        self._visited = visited\n",
    "\n",
    "    @property\n",
    "    def path(self) -> list[str]:\n",
    "        return self._path\n",
    "    \n",
    "    @property\n",
    "    def visited(self) -> set[str]:\n",
    "        return self._visited\n",
    "    \n",
    "    def __hash__(self) -> int:\n",
    "        return hash((tuple(self.path), tuple(self.visited)))\n",
    "    \n",
    "    def __eq__(self, other: object) -> bool:\n",
    "        if isinstance(other, PathExplorer):\n",
    "            return (self.path, self.visited) == (other.path, other.visited)\n",
    "        return False\n",
    "    \n",
    "    def __repr__(self) -> str:\n",
    "        return f\"PathExplorer({self._path}, {self._visited})\"\n",
    "    \n",
    "    def __len__(self) -> int:\n",
    "        return len(self._path)"
   ]
  },
  {
   "cell_type": "code",
   "execution_count": null,
   "metadata": {},
   "outputs": [],
   "source": [
    "def _cycle_aux(\n",
    "    grafo: WeightedDirectedGraph, explorer: PathExplorer, target: str\n",
    ") -> tuple[list, str] | tuple[Cycle, str]:\n",
    "    current_node = explorer.path[-1]\n",
    "    if current_node == target:\n",
    "        return Cycle(explorer.path[:-1]), \"cycle\"\n",
    "    \n",
    "    children = grafo.children(current_node)\n",
    "    unexplored_nodes = children - explorer.visited\n",
    "    if not unexplored_nodes:\n",
    "        return [], \"dead explorer\"\n",
    "    \n",
    "    updated_visited = explorer.visited | {current_node}\n",
    "    new_explorers = [\n",
    "        PathExplorer(explorer.path + [node], updated_visited)\n",
    "        for node in unexplored_nodes\n",
    "    ]\n",
    "    return new_explorers, \"continue\""
   ]
  },
  {
   "cell_type": "code",
   "execution_count": null,
   "metadata": {},
   "outputs": [],
   "source": [
    "def _get_node_cycles(grafo: WeightedDirectedGraph, start: str) -> list[list[str]]:\n",
    "    first_children = grafo.children(start)\n",
    "    if not first_children:\n",
    "        return []\n",
    "\n",
    "    explorers: list[PathExplorer] = [\n",
    "        PathExplorer([start, child]) for child in first_children\n",
    "    ]\n",
    "    cycles: list[Cycle] = []\n",
    "\n",
    "    while explorers: \n",
    "        result, state = _cycle_aux(grafo, explorers.pop(0), start)                              \n",
    "        if state == \"cycle\":\n",
    "            cycles.append(result)\n",
    "        elif state == \"continue\":\n",
    "            new_explorers = list(set(result) - set(explorers))\n",
    "            explorers.extend(new_explorers)\n",
    "\n",
    "    return cycles"
   ]
  },
  {
   "cell_type": "code",
   "execution_count": null,
   "metadata": {},
   "outputs": [],
   "source": [
    "def _path_aux(\n",
    "    grafo: WeightedDirectedGraph, explorer: PathExplorer, target: str\n",
    ") -> tuple[list, str] | tuple[Cycle, str]:\n",
    "    current_node = explorer.path[-1]\n",
    "    if current_node == target:\n",
    "        return explorer.path, \"path\"\n",
    "    \n",
    "    children = grafo.children(current_node)\n",
    "    unexplored_nodes = children - explorer.visited\n",
    "    if not unexplored_nodes:\n",
    "        return [], \"dead explorer\"\n",
    "    \n",
    "    updated_visited = explorer.visited | {current_node}\n",
    "    new_explorers = [\n",
    "        PathExplorer(explorer.path + [node], updated_visited)\n",
    "        for node in unexplored_nodes\n",
    "    ]\n",
    "    return new_explorers, \"continue\""
   ]
  },
  {
   "cell_type": "code",
   "execution_count": null,
   "metadata": {},
   "outputs": [],
   "source": [
    "def _find_all_paths(grafo: WeightedDirectedGraph, start: str, end: str) -> list[list[str]]:\n",
    "    first_children = grafo.children(start)\n",
    "    if not first_children:\n",
    "        return []\n",
    "\n",
    "    explorers: list[PathExplorer] = [\n",
    "        PathExplorer([start, child]) for child in first_children\n",
    "    ]\n",
    "    all_paths: list[list[str]] = []\n",
    "\n",
    "    while explorers:\n",
    "        result, state = _path_aux(grafo, explorers.pop(0), end)                  \n",
    "        if state == \"path\":\n",
    "            all_paths.append(result)\n",
    "        elif state == \"continue\":\n",
    "            new_explorers = list(set(result) - set(explorers))\n",
    "            explorers.extend(new_explorers)\n",
    "\n",
    "    return all_paths"
   ]
  },
  {
   "cell_type": "code",
   "execution_count": null,
   "metadata": {},
   "outputs": [],
   "source": [
    "grafo.get_node_cycles(\"A\")"
   ]
  },
  {
   "cell_type": "code",
   "execution_count": null,
   "metadata": {},
   "outputs": [],
   "source": [
    "_find_all_paths(grafo, \"A\", \"F\")"
   ]
  },
  {
   "cell_type": "code",
   "execution_count": null,
   "metadata": {},
   "outputs": [],
   "source": [
    "grafo.get_node_cycles(\"B\")"
   ]
  },
  {
   "cell_type": "code",
   "execution_count": null,
   "metadata": {},
   "outputs": [],
   "source": [
    "grafo.get_node_cycles(\"C\")"
   ]
  },
  {
   "cell_type": "code",
   "execution_count": null,
   "metadata": {},
   "outputs": [],
   "source": [
    "grafo.get_node_cycles(\"D\")"
   ]
  },
  {
   "cell_type": "code",
   "execution_count": null,
   "metadata": {},
   "outputs": [],
   "source": [
    "grafo.get_node_cycles(\"E\")"
   ]
  },
  {
   "cell_type": "code",
   "execution_count": null,
   "metadata": {},
   "outputs": [],
   "source": [
    "grafo.get_node_cycles(\"F\")"
   ]
  },
  {
   "cell_type": "code",
   "execution_count": null,
   "metadata": {},
   "outputs": [],
   "source": [
    "grafo.cycles"
   ]
  },
  {
   "cell_type": "code",
   "execution_count": null,
   "metadata": {},
   "outputs": [],
   "source": [
    "def vector_group_multiplication() -> Group:\n",
    "    group = Group(\n",
    "        name=\"Vectors of dimension 2 with multiplication\",\n",
    "        identity=np.ones(2),\n",
    "        operation=lambda x, y: x * y,\n",
    "        inverse_function=lambda x: 1 / x,\n",
    "        hash_function=lambda x: hash(tuple(x)),\n",
    "    )\n",
    "    return group\n",
    "\n",
    "\n",
    "def vector_group_addition() -> Group:\n",
    "    group = Group(\n",
    "        name=\"Vectors of dimension 2 with addition\",\n",
    "        identity=np.zeros(2),\n",
    "        operation=lambda x, y: x + y,\n",
    "        inverse_function=lambda x: -x,\n",
    "        hash_function=lambda x: hash(tuple(x)),\n",
    "    )\n",
    "    return group\n",
    "\n",
    "\n",
    "_array_dict_graph: dict[str, dict[str, Any]] = {\n",
    "    \"A\": {\n",
    "        \"B\": np.array([1.0, 2.0]),\n",
    "        \"C\": np.array([3.0, 4.0]),\n",
    "    },\n",
    "    \"B\": {\n",
    "        \"C\": np.array([-5.0, 1.3]),\n",
    "        \"D\": np.array([2.0, 1.0]),\n",
    "    },\n",
    "    \"C\": {\n",
    "        \"D\": np.array([-1.0, 1.0]),\n",
    "    },\n",
    "    \"D\": {},\n",
    "    \"Z\": {},\n",
    "}\n",
    "\n",
    "\n",
    "def multiplication_graph() -> WeightedDirectedGraph:\n",
    "    graph = WeightedDirectedGraph.from_dict(\n",
    "        _array_dict_graph, vector_group_multiplication()\n",
    "    )\n",
    "    return graph\n",
    "\n",
    "\n",
    "def addition_graph() -> WeightedDirectedGraph:\n",
    "    graph = WeightedDirectedGraph.from_dict(_array_dict_graph, vector_group_addition())\n",
    "    return graph"
   ]
  },
  {
   "cell_type": "code",
   "execution_count": null,
   "metadata": {},
   "outputs": [],
   "source": [
    "addition_graph().add_reverse_edges().is_conmutative"
   ]
  },
  {
   "cell_type": "code",
   "execution_count": null,
   "metadata": {},
   "outputs": [],
   "source": [
    "complete_graph = addition_graph().add_reverse_edges()\n",
    "group = complete_graph.group\n",
    "identity = group.identity\n",
    "bad = [\n",
    "    cycle\n",
    "    for cycle in complete_graph.cycles\n",
    "    if not group.equal(complete_graph.path_weight(cycle), identity)\n",
    "]\n",
    "bad "
   ]
  },
  {
   "cell_type": "code",
   "execution_count": null,
   "metadata": {},
   "outputs": [],
   "source": [
    "[\n",
    "    complete_graph.path_weight(cycle)\n",
    "    for cycle in bad\n",
    "]"
   ]
  },
  {
   "cell_type": "code",
   "execution_count": null,
   "metadata": {},
   "outputs": [],
   "source": [
    "complete_graph"
   ]
  },
  {
   "cell_type": "code",
   "execution_count": null,
   "metadata": {},
   "outputs": [],
   "source": [
    "todos = set()\n",
    "for node in complete_graph.nodes: \n",
    "    todos.update(complete_graph.get_node_cycles(node))\n",
    "\n",
    "todos"
   ]
  },
  {
   "cell_type": "code",
   "execution_count": null,
   "metadata": {},
   "outputs": [],
   "source": [
    "[cycle for cycle in complete_graph.cycles]"
   ]
  },
  {
   "cell_type": "code",
   "execution_count": null,
   "metadata": {},
   "outputs": [],
   "source": [
    "grafo = WeightedDirectedGraph.from_dict(\n",
    "    {\n",
    "        \"A\": {\"B\": np.array([1, 2.0]), \"C\": np.array([3.0, 4.0])},\n",
    "        \"B\": {\"C\": np.array([2.0, 2.0])},\n",
    "        \"C\": {},\n",
    "    },\n",
    "    vector_group_addition(),\n",
    ")"
   ]
  },
  {
   "cell_type": "code",
   "execution_count": null,
   "metadata": {},
   "outputs": [],
   "source": [
    "grafo.add_reverse_edges().cycles"
   ]
  }
 ],
 "metadata": {
  "kernelspec": {
   "display_name": "Python 3",
   "language": "python",
   "name": "python3"
  },
  "language_info": {
   "codemirror_mode": {
    "name": "ipython",
    "version": 3
   },
   "file_extension": ".py",
   "mimetype": "text/x-python",
   "name": "python",
   "nbconvert_exporter": "python",
   "pygments_lexer": "ipython3",
   "version": "3.12.2"
  }
 },
 "nbformat": 4,
 "nbformat_minor": 2
}
