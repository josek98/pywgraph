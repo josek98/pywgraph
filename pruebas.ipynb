{
 "cells": [
  {
   "cell_type": "code",
   "execution_count": 5,
   "metadata": {},
   "outputs": [],
   "source": [
    "from pywgraph import WeightedDirectedGraph, WeightedDirectedEdge, Group\n",
    "import numpy as np "
   ]
  },
  {
   "cell_type": "code",
   "execution_count": 6,
   "metadata": {},
   "outputs": [],
   "source": [
    "r3_group = Group(\"R^3\", np.ones(3), lambda x, y: x * y, lambda x, y: x / y, lambda x: hash(tuple(x)))\n",
    "graph = WeightedDirectedGraph(\n",
    "    {\"EUR\", \"USD\", \"GBP\"},\n",
    "    {\n",
    "        WeightedDirectedEdge(\"EUR\", \"USD\", np.array([1.1, 1.2, 1.3]), r3_group),\n",
    "        WeightedDirectedEdge(\"USD\", \"GBP\", np.array([0.9, 1.0, 0.8]), r3_group),\n",
    "    },\n",
    "    r3_group\n",
    ")"
   ]
  },
  {
   "cell_type": "code",
   "execution_count": 9,
   "metadata": {},
   "outputs": [
    {
     "data": {
      "text/plain": [
       "array([0.99, 1.2 , 1.04])"
      ]
     },
     "execution_count": 9,
     "metadata": {},
     "output_type": "execute_result"
    }
   ],
   "source": [
    "graph.path_weight([\"EUR\", \"USD\", \"GBP\"])"
   ]
  }
 ],
 "metadata": {
  "kernelspec": {
   "display_name": "Python 3",
   "language": "python",
   "name": "python3"
  },
  "language_info": {
   "codemirror_mode": {
    "name": "ipython",
    "version": 3
   },
   "file_extension": ".py",
   "mimetype": "text/x-python",
   "name": "python",
   "nbconvert_exporter": "python",
   "pygments_lexer": "ipython3",
   "version": "3.12.2"
  }
 },
 "nbformat": 4,
 "nbformat_minor": 2
}
