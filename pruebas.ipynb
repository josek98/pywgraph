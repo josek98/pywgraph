{
 "cells": [
  {
   "cell_type": "code",
   "execution_count": 1,
   "metadata": {},
   "outputs": [],
   "source": [
    "from pywgraph import *"
   ]
  },
  {
   "cell_type": "code",
   "execution_count": 2,
   "metadata": {},
   "outputs": [],
   "source": [
    "grafo = WeightedDirectedGraph.from_dict(\n",
    "    {\n",
    "        \"A\": {\"B\": 1, \"F\": 1},\n",
    "        \"B\": {\"C\": 1, \"A\":1},\n",
    "        \"C\": {\"A\":1, \"D\":1},\n",
    "        \"D\": {\"A\":1},\n",
    "        \"E\": {\"B\":1},\n",
    "        \"F\":{\"E\":1}\n",
    "    }\n",
    ")"
   ]
  },
  {
   "cell_type": "code",
   "execution_count": null,
   "metadata": {},
   "outputs": [],
   "source": [
    "class PathExplorer(list[str]):\n",
    "\n",
    "    def __init__(self, path: list[str] = [], visited: set[str] = set()):\n",
    "        self._path = path\n",
    "        self._visited = visited\n",
    "\n",
    "    @property\n",
    "    def path(self) -> list[str]:\n",
    "        return self._path\n",
    "    \n",
    "    @property\n",
    "    def visited(self) -> set[str]:\n",
    "        return self._visited\n",
    "    \n",
    "    def __hash__(self) -> int:\n",
    "        return hash((tuple(self.path), tuple(self.visited)))\n",
    "    \n",
    "    def __eq__(self, other: object) -> bool:\n",
    "        if isinstance(other, PathExplorer):\n",
    "            return (self.path, self.visited) == (other.path, other.visited)\n",
    "        return False\n",
    "    \n",
    "    def __repr__(self) -> str:\n",
    "        return f\"PathExplorer({self._path}, {self._visited})\"\n",
    "    \n",
    "    def __len__(self) -> int:\n",
    "        return len(self._path)"
   ]
  },
  {
   "cell_type": "code",
   "execution_count": null,
   "metadata": {},
   "outputs": [],
   "source": [
    "def _cycle_aux(\n",
    "    grafo: WeightedDirectedGraph, explorer: PathExplorer, target: str\n",
    ") -> tuple[list, str]:\n",
    "    current_node = explorer.path[-1]\n",
    "    if current_node == target:\n",
    "        return explorer.path, \"cycle\"\n",
    "    \n",
    "    children = grafo.children(current_node)\n",
    "    unexplored_nodes = children - explorer.visited\n",
    "    if not unexplored_nodes:\n",
    "        return [], \"dead explorer\"\n",
    "    \n",
    "    updated_visited = explorer.visited | {current_node}\n",
    "    new_explorers = [\n",
    "        PathExplorer(explorer.path + [node], updated_visited)\n",
    "        for node in unexplored_nodes\n",
    "    ]\n",
    "    return new_explorers, \"continue\""
   ]
  },
  {
   "cell_type": "code",
   "execution_count": null,
   "metadata": {},
   "outputs": [],
   "source": [
    "def find_cycles(grafo: WeightedDirectedGraph, start: str) -> list[list[str]]:\n",
    "    first_children = grafo.children(start)\n",
    "    if not first_children:\n",
    "        return []\n",
    "\n",
    "    explorers: list[PathExplorer] = [\n",
    "        PathExplorer([start, child]) for child in first_children\n",
    "    ]\n",
    "    cycles: list[list[str]] = []\n",
    "\n",
    "    while explorers: \n",
    "        result, state = cycle_aux(grafo, explorers.pop(0), start)\n",
    "        if state == \"cycle\":\n",
    "            cycles.append(result)\n",
    "        elif state == \"dead explorer\":\n",
    "            pass\n",
    "        else: \n",
    "            new_explorers = list(set(explorers) - set(result))\n",
    "            explorers.extend(result)\n",
    "\n",
    "    return cycles"
   ]
  },
  {
   "cell_type": "code",
   "execution_count": null,
   "metadata": {},
   "outputs": [],
   "source": [
    "find_cycles(grafo, \"A\")"
   ]
  },
  {
   "cell_type": "code",
   "execution_count": null,
   "metadata": {},
   "outputs": [],
   "source": [
    "find_cycles(grafo, \"B\")"
   ]
  },
  {
   "cell_type": "code",
   "execution_count": null,
   "metadata": {},
   "outputs": [],
   "source": [
    "find_cycles(grafo, \"C\")"
   ]
  },
  {
   "cell_type": "code",
   "execution_count": null,
   "metadata": {},
   "outputs": [],
   "source": [
    "find_cycles(grafo, \"D\")"
   ]
  },
  {
   "cell_type": "code",
   "execution_count": null,
   "metadata": {},
   "outputs": [],
   "source": [
    "find_cycles(grafo, \"E\")"
   ]
  },
  {
   "cell_type": "code",
   "execution_count": null,
   "metadata": {},
   "outputs": [],
   "source": [
    "find_cycles(grafo, \"F\")"
   ]
  },
  {
   "cell_type": "code",
   "execution_count": null,
   "metadata": {},
   "outputs": [],
   "source": [
    "ciclo_1 = ['F', 'E', 'B', 'A', 'F']\n",
    "ciclo_2 = ['E', 'B', 'A', 'F', 'E']\n",
    "\n",
    "cleaned_1 = ciclo_1[:-1]\n",
    "cleaned_2 = ciclo_2[:-1]\n",
    "\n",
    "[cleaned_1[-i:] + cleaned_1[:-i] for i in range(len(cleaned_1))]"
   ]
  },
  {
   "cell_type": "code",
   "execution_count": null,
   "metadata": {},
   "outputs": [],
   "source": [
    "a = Cycle([\"A\", \"B\", \"C\"])\n",
    "b = Cycle([\"B\", \"C\", \"A\"])"
   ]
  },
  {
   "cell_type": "code",
   "execution_count": null,
   "metadata": {},
   "outputs": [],
   "source": [
    "{b, b, a}"
   ]
  },
  {
   "cell_type": "code",
   "execution_count": null,
   "metadata": {},
   "outputs": [],
   "source": [
    "{1, 1}"
   ]
  },
  {
   "cell_type": "code",
   "execution_count": null,
   "metadata": {},
   "outputs": [],
   "source": []
  },
  {
   "cell_type": "code",
   "execution_count": null,
   "metadata": {},
   "outputs": [],
   "source": [
    "min([\"B\", \"C\", \"A\"])"
   ]
  }
 ],
 "metadata": {
  "kernelspec": {
   "display_name": "Python 3",
   "language": "python",
   "name": "python3"
  },
  "language_info": {
   "codemirror_mode": {
    "name": "ipython",
    "version": 3
   },
   "file_extension": ".py",
   "mimetype": "text/x-python",
   "name": "python",
   "nbconvert_exporter": "python",
   "pygments_lexer": "ipython3",
   "version": "3.12.2"
  }
 },
 "nbformat": 4,
 "nbformat_minor": 2
}
