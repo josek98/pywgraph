{
 "cells": [
  {
   "cell_type": "code",
   "execution_count": 1,
   "metadata": {},
   "outputs": [],
   "source": [
    "from pywgraph import *"
   ]
  },
  {
   "cell_type": "code",
   "execution_count": 2,
   "metadata": {},
   "outputs": [],
   "source": [
    "group = CommonGroups.RealMultiplicative\n",
    "group.strict_total_order_function = lambda x, y: abs(x) < abs(y)"
   ]
  },
  {
   "cell_type": "code",
   "execution_count": 8,
   "metadata": {},
   "outputs": [],
   "source": [
    "grafo = WeightedDirectedGraph.from_dict(\n",
    "    {\n",
    "        'a': {'b': 1, 'c': 6},\n",
    "        'b': {'a': 2, 'd': 4},\n",
    "        'c': {'a': -5},\n",
    "        'd': {'b': 4},\n",
    "    },\n",
    "    group\n",
    ")"
   ]
  },
  {
   "cell_type": "code",
   "execution_count": 9,
   "metadata": {},
   "outputs": [
    {
     "data": {
      "text/plain": [
       "[1.0, 2.0, 16.0, -30.0, 32.0, 2.0, -60.0, 32.0, 16.0, -30.0, -480.0, -60.0]"
      ]
     },
     "execution_count": 9,
     "metadata": {},
     "output_type": "execute_result"
    }
   ],
   "source": [
    "caminos = grafo.find_paths(start='a', end='b', max_weight=500, general_max_visitations=5, max_iter=40)\n",
    "[grafo.path_weight(path) for path in caminos]"
   ]
  },
  {
   "cell_type": "code",
   "execution_count": null,
   "metadata": {},
   "outputs": [],
   "source": [
    "def _iter_aux(\n",
    "    grafo: WeightedDirectedGraph,\n",
    "    explorer: PathExplorerPlus,\n",
    "    target: str,\n",
    "    general_max_visitations: int,\n",
    "    specific_max_visitations: dict[str, int],\n",
    "    max_weight\n",
    ") -> tuple[list[Path], list[PathExplorerPlus]]:\n",
    "\n",
    "    current_node = explorer.path[-1]\n",
    "    weight = explorer.weight\n",
    "    visitations = explorer.visitations.copy()\n",
    "    visitations[current_node] = visitations.get(current_node, 0) + 1\n",
    "    current_node_vistiations = visitations[current_node]\n",
    "    current_node_max_vistiations = specific_max_visitations.get(\n",
    "        current_node, general_max_visitations\n",
    "    )\n",
    "    found_path: list[Path] = []\n",
    "    new_explorers: list[PathExplorerPlus] = []\n",
    "\n",
    "    if current_node_vistiations > current_node_max_vistiations:\n",
    "        return found_path, new_explorers\n",
    "    \n",
    "    if max_weight is not None: \n",
    "        if grafo.group.le(max_weight, weight):\n",
    "            return found_path, new_explorers\n",
    "\n",
    "    if current_node == target:\n",
    "        found_path = [explorer.path]\n",
    "\n",
    "    children_tuples: set[tuple[str, \"Group.element\"]] = grafo.children_with_weight(current_node)\n",
    "    forbidden_nodes = {\n",
    "        node\n",
    "        for node, rep in visitations.items()\n",
    "        if rep >= specific_max_visitations.get(node, general_max_visitations)\n",
    "    }\n",
    "    unexplored_nodes = {(child, child_weight) for child, child_weight in children_tuples if child not in forbidden_nodes}\n",
    "    if not unexplored_nodes:\n",
    "        return found_path, new_explorers\n",
    "\n",
    "    new_explorers = [\n",
    "        PathExplorerPlus(Path(explorer.path + [node]), grafo.group(weight, child_weight), visitations)\n",
    "        for node, child_weight in unexplored_nodes\n",
    "    ]\n",
    "    return found_path, new_explorers\n",
    "\n",
    "def _find_paths(\n",
    "    grafo: WeightedDirectedGraph,\n",
    "    start: str,\n",
    "    end: str,\n",
    "    general_max_visitations: int = 1,\n",
    "    specific_max_visitations: dict[str, int] = {},\n",
    "    max_iter: int = 1_000,\n",
    "    max_paths: int | None = None,\n",
    "    max_weight = None,\n",
    ") -> list[Path]:\n",
    "    if max_paths is None:\n",
    "        m_paths: int | float = inf\n",
    "    else:\n",
    "        m_paths = max_paths\n",
    "    explorers: list[PathExplorerPlus] = [PathExplorerPlus(Path([start]), grafo.group.identity)]\n",
    "    all_paths: list[Path] = []\n",
    "\n",
    "    it = 1\n",
    "    while explorers and (it < max_iter) and (len(all_paths) < m_paths):\n",
    "        discovered_path, discovered_explorers = _iter_aux(\n",
    "            grafo,\n",
    "            explorers.pop(0),\n",
    "            end,\n",
    "            general_max_visitations,\n",
    "            specific_max_visitations,\n",
    "            max_weight\n",
    "        )\n",
    "        all_paths.extend(discovered_path)\n",
    "        new_explorers = list(set(discovered_explorers) - set(explorers))\n",
    "        explorers.extend(new_explorers)\n",
    "\n",
    "        it += 1\n",
    "\n",
    "    if it == max_iter:\n",
    "        warn(f\"Max iterations reached ({max_iter})\", Warning)\n",
    "\n",
    "    return all_paths"
   ]
  },
  {
   "cell_type": "code",
   "execution_count": null,
   "metadata": {},
   "outputs": [],
   "source": [
    "_find_paths(grafo, \"a\", \"c\", general_max_visitations=5)"
   ]
  }
 ],
 "metadata": {
  "kernelspec": {
   "display_name": "Python 3",
   "language": "python",
   "name": "python3"
  },
  "language_info": {
   "codemirror_mode": {
    "name": "ipython",
    "version": 3
   },
   "file_extension": ".py",
   "mimetype": "text/x-python",
   "name": "python",
   "nbconvert_exporter": "python",
   "pygments_lexer": "ipython3",
   "version": "3.12.2"
  }
 },
 "nbformat": 4,
 "nbformat_minor": 2
}
