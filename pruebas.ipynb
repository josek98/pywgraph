{
 "cells": [
  {
   "cell_type": "code",
   "execution_count": 1,
   "metadata": {},
   "outputs": [],
   "source": [
    "from pywgraph import * "
   ]
  },
  {
   "cell_type": "code",
   "execution_count": 3,
   "metadata": {},
   "outputs": [],
   "source": [
    "def graph() -> WeightedDirectedGraph:\n",
    "    _dict = {\n",
    "        \"A\":{\"B\":1},\n",
    "        \"B\":{\"C\":1},\n",
    "        \"C\":{},\n",
    "        \"Z\":{}\n",
    "    }\n",
    "    return WeightedDirectedGraph.from_dict(_dict).add_reverse_edges()\n",
    "\n",
    "def graph_from_tuples() -> WeightedDirectedGraph:\n",
    "    _tuples = [\n",
    "        (\"A\", \"B\", 1),\n",
    "        (\"B\", \"C\", 1),\n",
    "    ]\n",
    "    _graph = WeightedDirectedGraph.from_tuples(_tuples)\n",
    "    _graph.add_node(\"Z\", inplace=True)\n",
    "    return _graph"
   ]
  },
  {
   "cell_type": "code",
   "execution_count": 4,
   "metadata": {},
   "outputs": [
    {
     "data": {
      "text/plain": [
       "Nodes: {'A', 'C', 'B', 'Z'}\n",
       "Edges:\n",
       "B -> C: 1\n",
       "A -> B: 1\n",
       "B -> A: 1.0\n",
       "C -> B: 1.0"
      ]
     },
     "execution_count": 4,
     "metadata": {},
     "output_type": "execute_result"
    }
   ],
   "source": [
    "graph()"
   ]
  },
  {
   "cell_type": "code",
   "execution_count": null,
   "metadata": {},
   "outputs": [],
   "source": []
  },
  {
   "cell_type": "code",
   "execution_count": 2,
   "metadata": {},
   "outputs": [],
   "source": [
    "group = CommonGroups.RealMultiplicative\n",
    "group.strict_total_order_function = lambda x, y: abs(x) < abs(y)"
   ]
  },
  {
   "cell_type": "code",
   "execution_count": 17,
   "metadata": {},
   "outputs": [],
   "source": [
    "grafo = WeightedDirectedGraph.from_dict(\n",
    "    {\n",
    "        'A': {'B':2, 'D':8},\n",
    "        'B': {'D':5, 'E':6},\n",
    "        'D': {'E':3, 'F':2},\n",
    "        'E': {'F':1, 'C':9},\n",
    "        'F': {'C':3},\n",
    "        'C': {}\n",
    "    },\n",
    "    CommonGroups.RealAdditive\n",
    ")\n",
    "grafo.add_reverse_edges(inplace=True, method='mirror')"
   ]
  },
  {
   "cell_type": "code",
   "execution_count": 18,
   "metadata": {},
   "outputs": [],
   "source": [
    "grafo2 = WeightedDirectedGraph.from_tuples(\n",
    "    [\n",
    "        ('A', 'B', 2),\n",
    "        ('A','D', 8),\n",
    "        ('B','D',5),\n",
    "        ('B','E', 6),\n",
    "        ('D','E',3),\n",
    "        ('D','F',2),\n",
    "        ('E','F',1),\n",
    "        ('E','C',9),\n",
    "        ('F','C',3),\n",
    "    ],\n",
    "    CommonGroups.RealAdditive\n",
    ")\n",
    "grafo2.add_reverse_edges(inplace=True, method='mirror')"
   ]
  },
  {
   "cell_type": "code",
   "execution_count": 19,
   "metadata": {},
   "outputs": [
    {
     "data": {
      "text/plain": [
       "True"
      ]
     },
     "execution_count": 19,
     "metadata": {},
     "output_type": "execute_result"
    }
   ],
   "source": [
    "grafo == grafo2"
   ]
  },
  {
   "cell_type": "code",
   "execution_count": null,
   "metadata": {},
   "outputs": [],
   "source": []
  },
  {
   "cell_type": "code",
   "execution_count": null,
   "metadata": {},
   "outputs": [],
   "source": [
    "dij = Dijkstra(graph=grafo, start=\"A\")\n",
    "dij.shortest_path(\"B\", \"F\")"
   ]
  },
  {
   "cell_type": "code",
   "execution_count": null,
   "metadata": {},
   "outputs": [],
   "source": [
    "dij.shortest_path(\"A\", \"F\")"
   ]
  },
  {
   "cell_type": "code",
   "execution_count": null,
   "metadata": {},
   "outputs": [],
   "source": [
    "\n",
    "dij.perform_dijkstra_algorithm()"
   ]
  }
 ],
 "metadata": {
  "kernelspec": {
   "display_name": "Python 3",
   "language": "python",
   "name": "python3"
  },
  "language_info": {
   "codemirror_mode": {
    "name": "ipython",
    "version": 3
   },
   "file_extension": ".py",
   "mimetype": "text/x-python",
   "name": "python",
   "nbconvert_exporter": "python",
   "pygments_lexer": "ipython3",
   "version": "3.12.3"
  }
 },
 "nbformat": 4,
 "nbformat_minor": 2
}
