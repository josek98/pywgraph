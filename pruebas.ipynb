{
 "cells": [
  {
   "cell_type": "code",
   "execution_count": 1,
   "metadata": {},
   "outputs": [],
   "source": [
    "from pywgraph import WeightedDirectedGraph, WeightedDirectedEdge, Group\n",
    "import numpy as np "
   ]
  },
  {
   "cell_type": "code",
   "execution_count": 2,
   "metadata": {},
   "outputs": [],
   "source": [
    "r3_group = Group(\n",
    "    \"R^3\", np.ones(3), lambda x, y: x * y, lambda x, y: x / y, lambda x: hash(tuple(x))\n",
    ")\n",
    "graph = WeightedDirectedGraph.from_dict(\n",
    "    dict={\n",
    "        \"EUR\": {\"USD\": np.array([0.8, 0.9, 1.1]), \"GBP\": np.array([1.2, 1.3, 1.4])},\n",
    "        \"USD\": {\"GBP\": np.array([0.7, 0.8, 0.9]), \"JPY\": np.array([110, 120, 130])},\n",
    "        \"GBP\": {\"JPY\": np.array([150, 160, 170])},\n",
    "        \"JPY\": {},\n",
    "    },\n",
    "    group=r3_group,\n",
    ")"
   ]
  },
  {
   "cell_type": "code",
   "execution_count": 3,
   "metadata": {},
   "outputs": [
    {
     "data": {
      "text/plain": [
       "array([1., 1., 1.])"
      ]
     },
     "execution_count": 3,
     "metadata": {},
     "output_type": "execute_result"
    }
   ],
   "source": [
    "graph.find_path(\"GBP\", \"GBP\")\n",
    "graph.path_weight([\"GBP\"])"
   ]
  },
  {
   "cell_type": "code",
   "execution_count": 4,
   "metadata": {},
   "outputs": [
    {
     "data": {
      "text/plain": [
       "array([1., 1., 1.])"
      ]
     },
     "execution_count": 4,
     "metadata": {},
     "output_type": "execute_result"
    }
   ],
   "source": [
    "graph.group.neutral_element"
   ]
  },
  {
   "cell_type": "code",
   "execution_count": 5,
   "metadata": {},
   "outputs": [
    {
     "data": {
      "text/plain": [
       "5"
      ]
     },
     "execution_count": 5,
     "metadata": {},
     "output_type": "execute_result"
    }
   ],
   "source": [
    "from functools import reduce\n",
    "\n",
    "reduce(lambda x, y: x * y, [5], 1)"
   ]
  },
  {
   "cell_type": "code",
   "execution_count": 6,
   "metadata": {},
   "outputs": [],
   "source": [
    "r_22_matrix = Group(\n",
    "    name=\"R2x2 matrices with multiplication\", \n",
    "    neutral_element=np.identity(2),\n",
    "    operation=lambda x,y : x*y, \n",
    "    inverse_operation=lambda x,y : x/y,\n",
    "    hash_function=lambda x: hash(tuple(x.flatten()))\n",
    ")\n",
    "\n",
    "matrix_graph = WeightedDirectedGraph.from_dict(\n",
    "    dict={\n",
    "        \"A\": {\"B\": np.array([[1, 2], [3, 4]]), \"D\": np.array([[2,4], [0.5, 1]])},\n",
    "        \"B\": {\"C\": np.array([[5, 6], [7, 8]])},\n",
    "        \"C\": {\"D\": np.array([[9, 10], [-6, -1.3]])},\n",
    "        \"D\": {},\n",
    "    },\n",
    "    group=r_22_matrix,\n",
    ")"
   ]
  },
  {
   "cell_type": "code",
   "execution_count": 7,
   "metadata": {},
   "outputs": [
    {
     "data": {
      "text/plain": [
       "'3[]'"
      ]
     },
     "execution_count": 7,
     "metadata": {},
     "output_type": "execute_result"
    }
   ],
   "source": [
    "array = 3\n",
    "array_str = str(array)\n",
    "lines = str(array_str).split(\"\\n\")\n",
    "first_line = lines[0]\n",
    "following_lines = lines[1:]\n",
    "indented_following_lines = \"\\n\" + \"\\n\".join(\n",
    "    \" \" * len(\"Edges\" + \": \") + line for line in following_lines\n",
    ")\n",
    "\n",
    "representation = f\"{first_line}{following_lines}\"\n",
    "representation"
   ]
  },
  {
   "cell_type": "code",
   "execution_count": 8,
   "metadata": {},
   "outputs": [
    {
     "data": {
      "text/plain": [
       "''"
      ]
     },
     "execution_count": 8,
     "metadata": {},
     "output_type": "execute_result"
    }
   ],
   "source": [
    "\"a\".join(\"b\" + line for line in following_lines)"
   ]
  },
  {
   "cell_type": "code",
   "execution_count": 9,
   "metadata": {},
   "outputs": [
    {
     "data": {
      "text/plain": [
       "'\\n'"
      ]
     },
     "execution_count": 9,
     "metadata": {},
     "output_type": "execute_result"
    }
   ],
   "source": [
    "indented_following_lines"
   ]
  },
  {
   "cell_type": "code",
   "execution_count": 10,
   "metadata": {},
   "outputs": [
    {
     "data": {
      "text/plain": [
       "Nodes: {'D', 'B', 'A', 'C'}\n",
       "Edges:\n",
       "A -> B: [[1 2]\n",
       "         [3 4]]\n",
       "B -> C: [[5 6]\n",
       "         [7 8]]\n",
       "C -> D: [[ 9.  10. ]\n",
       "         [-6.  -1.3]]\n",
       "A -> D: [[2.  4. ]\n",
       "         [0.5 1. ]]"
      ]
     },
     "execution_count": 10,
     "metadata": {},
     "output_type": "execute_result"
    }
   ],
   "source": [
    "matrix_graph"
   ]
  },
  {
   "cell_type": "code",
   "execution_count": 11,
   "metadata": {},
   "outputs": [
    {
     "data": {
      "text/plain": [
       "Nodes: {'B', 'A', 'C'}\n",
       "Edges:\n",
       "A -> B: 1\n",
       "A -> C: 3\n",
       "B -> C: 2"
      ]
     },
     "execution_count": 11,
     "metadata": {},
     "output_type": "execute_result"
    }
   ],
   "source": [
    "WeightedDirectedGraph.from_dict({\n",
    "    \"A\": {\"B\":1, \"C\": 3},\n",
    "    \"B\": {\"C\": 2},\n",
    "    \"C\": {},\n",
    "})"
   ]
  }
 ],
 "metadata": {
  "kernelspec": {
   "display_name": "Python 3",
   "language": "python",
   "name": "python3"
  },
  "language_info": {
   "codemirror_mode": {
    "name": "ipython",
    "version": 3
   },
   "file_extension": ".py",
   "mimetype": "text/x-python",
   "name": "python",
   "nbconvert_exporter": "python",
   "pygments_lexer": "ipython3",
   "version": "3.12.2"
  }
 },
 "nbformat": 4,
 "nbformat_minor": 2
}
