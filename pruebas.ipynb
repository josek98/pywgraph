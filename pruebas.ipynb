{
 "cells": [
  {
   "cell_type": "code",
   "execution_count": 2,
   "metadata": {},
   "outputs": [],
   "source": [
    "from pywgraph import *"
   ]
  },
  {
   "cell_type": "code",
   "execution_count": 3,
   "metadata": {},
   "outputs": [],
   "source": [
    "grafo = WeightedDirectedGraph.from_dict(\n",
    "    {\n",
    "        \"A\": {\"B\": 1, \"F\": 1},\n",
    "        \"B\": {\"C\": 1, \"A\":1},\n",
    "        \"C\": {\"A\":1, \"D\":1},\n",
    "        \"D\": {\"A\":1, \"E\":1},\n",
    "        \"E\": {\"B\":1, \"F\": 1},\n",
    "        \"F\":{\"E\":1, \"A\":1}\n",
    "    }\n",
    ")"
   ]
  },
  {
   "cell_type": "code",
   "execution_count": 111,
   "metadata": {},
   "outputs": [],
   "source": [
    "class MegaExplorer:\n",
    "\n",
    "    def __init__(self, path: list[str], visitations: dict[str, int] = {}) -> None: \n",
    "        self._path = path\n",
    "        self._visitations = visitations\n",
    "\n",
    "    @property\n",
    "    def path(self) -> list[str]:\n",
    "        return self._path\n",
    "    \n",
    "    @property\n",
    "    def visitations(self) -> dict[str, int]:\n",
    "        return self._visitations\n",
    "    \n",
    "    def __hash__(self) -> int:\n",
    "        hash_list = hash(tuple(self.path))\n",
    "        hash_dict = hash(tuple(sorted(list(self.visitations.items()), key=lambda x: x[0])))\n",
    "        return hash_list ^ hash_dict\n",
    "    \n",
    "    def __eq__(self, other: object) -> bool:\n",
    "        if isinstance(other, MegaExplorer):\n",
    "            return (self.path, self.visitations) == (other.path, other.visitations)\n",
    "        return False\n",
    "\n",
    "    def __len__(self) -> int:\n",
    "        return len(self.path)\n",
    "    \n",
    "    def __repr__(self) -> str:\n",
    "        return f\"PathExplorer({self.path}, {self.visitations})\"\n"
   ]
  },
  {
   "cell_type": "code",
   "execution_count": 108,
   "metadata": {},
   "outputs": [],
   "source": [
    "def iter_aux(\n",
    "    grafo: WeightedDirectedGraph,\n",
    "    explorer: MegaExplorer,\n",
    "    target: str,\n",
    "    general_max_visitations: int,\n",
    "    specific_max_visitations: dict[str, int],\n",
    ") -> tuple[list, str] | tuple[MegaExplorer, str]:\n",
    "    current_node = explorer.path[-1]\n",
    "    visitations = explorer.visitations.copy()\n",
    "    visitations[current_node] = visitations.get(current_node, 0) + 1\n",
    "    current_node_vistiations = visitations[current_node]\n",
    "    current_node_max_vistiations = specific_max_visitations.get(\n",
    "        current_node, general_max_visitations\n",
    "    )\n",
    "\n",
    "    if (current_node == target) and (\n",
    "        current_node_vistiations == current_node_max_vistiations\n",
    "    ):\n",
    "        return explorer.path, \"path\"\n",
    "\n",
    "    if current_node_vistiations > current_node_max_vistiations:\n",
    "        return [], \"dead explorer\"\n",
    "\n",
    "    children = grafo.children(current_node)\n",
    "    forbidden_nodes = {\n",
    "        node\n",
    "        for node, rep in visitations.items()\n",
    "        if rep >= specific_max_visitations.get(node, general_max_visitations)\n",
    "    }\n",
    "    unexplored_nodes = children - forbidden_nodes\n",
    "    if not unexplored_nodes:\n",
    "        return [], \"dead explorer\"\n",
    "\n",
    "    new_explorers = [\n",
    "        MegaExplorer(explorer.path + [node], visitations) for node in unexplored_nodes\n",
    "    ]\n",
    "    return new_explorers, \"continue\""
   ]
  },
  {
   "cell_type": "code",
   "execution_count": 119,
   "metadata": {},
   "outputs": [],
   "source": [
    "def mega_find_paths(\n",
    "    grafo: WeightedDirectedGraph,\n",
    "    start: str,\n",
    "    end: str,\n",
    "    general_max_visitations: int = 1,\n",
    "    specific_max_visitations: dict[str, int] = {},\n",
    ") -> list[list[str]]:\n",
    "\n",
    "    explorers: list[MegaExplorer] = [MegaExplorer([start])]\n",
    "    all_paths: list[list[str]] = []\n",
    "\n",
    "    it = 0\n",
    "    while explorers and it <= 200:\n",
    "        it += 1\n",
    "        result, state = iter_aux(\n",
    "            grafo,\n",
    "            explorers.pop(0),\n",
    "            end,\n",
    "            general_max_visitations,\n",
    "            specific_max_visitations,\n",
    "        )\n",
    "        if state == \"path\":\n",
    "            all_paths.append(result)\n",
    "        elif state == \"continue\":\n",
    "            new_explorers = list(set(result) - set(explorers))\n",
    "            explorers.extend(new_explorers)\n",
    "\n",
    "    return all_paths"
   ]
  },
  {
   "cell_type": "code",
   "execution_count": 121,
   "metadata": {},
   "outputs": [
    {
     "data": {
      "text/plain": [
       "[['A', 'B'], ['A', 'F', 'E', 'B']]"
      ]
     },
     "execution_count": 121,
     "metadata": {},
     "output_type": "execute_result"
    }
   ],
   "source": [
    "mega_find_paths(grafo, \"A\", \"B\")"
   ]
  },
  {
   "cell_type": "code",
   "execution_count": 115,
   "metadata": {},
   "outputs": [
    {
     "data": {
      "text/plain": [
       "[Cycle(['A', 'F']),\n",
       " Cycle(['A', 'B']),\n",
       " Cycle(['A', 'B', 'C']),\n",
       " Cycle(['A', 'F', 'E', 'B']),\n",
       " Cycle(['A', 'B', 'C', 'D']),\n",
       " Cycle(['A', 'F', 'E', 'B', 'C']),\n",
       " Cycle(['A', 'B', 'C', 'D', 'E', 'F']),\n",
       " Cycle(['A', 'F', 'E', 'B', 'C', 'D'])]"
      ]
     },
     "execution_count": 115,
     "metadata": {},
     "output_type": "execute_result"
    }
   ],
   "source": [
    "sorted(list(grafo.get_node_cycles(\"A\")), key=len)"
   ]
  },
  {
   "cell_type": "code",
   "execution_count": 5,
   "metadata": {},
   "outputs": [],
   "source": [
    "class PathExplorer(list[str]):\n",
    "\n",
    "    def __init__(self, path: list[str] = [], visited: set[str] = set()):\n",
    "        self._path = path\n",
    "        self._visited = visited\n",
    "\n",
    "    @property\n",
    "    def path(self) -> list[str]:\n",
    "        return self._path\n",
    "    \n",
    "    @property\n",
    "    def visited(self) -> set[str]:\n",
    "        return self._visited\n",
    "    \n",
    "    def __hash__(self) -> int:\n",
    "        return hash((tuple(self.path), tuple(self.visited)))\n",
    "    \n",
    "    def __eq__(self, other: object) -> bool:\n",
    "        if isinstance(other, PathExplorer):\n",
    "            return (self.path, self.visited) == (other.path, other.visited)\n",
    "        return False\n",
    "    \n",
    "    def __repr__(self) -> str:\n",
    "        return f\"PathExplorer({self._path}, {self._visited})\"\n",
    "    \n",
    "    def __len__(self) -> int:\n",
    "        return len(self._path)"
   ]
  },
  {
   "cell_type": "code",
   "execution_count": 6,
   "metadata": {},
   "outputs": [],
   "source": [
    "def _cycle_aux(\n",
    "    grafo: WeightedDirectedGraph, explorer: PathExplorer, target: str\n",
    ") -> tuple[list, str] | tuple[Cycle, str]:\n",
    "    current_node = explorer.path[-1]\n",
    "    if current_node == target:\n",
    "        return Cycle(explorer.path[:-1]), \"cycle\"\n",
    "    \n",
    "    children = grafo.children(current_node)\n",
    "    unexplored_nodes = children - explorer.visited\n",
    "    if not unexplored_nodes:\n",
    "        return [], \"dead explorer\"\n",
    "    \n",
    "    updated_visited = explorer.visited | {current_node}\n",
    "    new_explorers = [\n",
    "        PathExplorer(explorer.path + [node], updated_visited)\n",
    "        for node in unexplored_nodes\n",
    "    ]\n",
    "    return new_explorers, \"continue\""
   ]
  },
  {
   "cell_type": "code",
   "execution_count": 7,
   "metadata": {},
   "outputs": [],
   "source": [
    "def _get_node_cycles(grafo: WeightedDirectedGraph, start: str) -> list[list[str]]:\n",
    "    first_children = grafo.children(start)\n",
    "    if not first_children:\n",
    "        return []\n",
    "\n",
    "    explorers: list[PathExplorer] = [\n",
    "        PathExplorer([start, child]) for child in first_children\n",
    "    ]\n",
    "    cycles: list[Cycle] = []\n",
    "\n",
    "    while explorers: \n",
    "        result, state = _cycle_aux(grafo, explorers.pop(0), start)                              \n",
    "        if state == \"cycle\":\n",
    "            cycles.append(result)\n",
    "        elif state == \"continue\":\n",
    "            new_explorers = list(set(result) - set(explorers))\n",
    "            explorers.extend(new_explorers)\n",
    "\n",
    "    return cycles"
   ]
  },
  {
   "cell_type": "code",
   "execution_count": 22,
   "metadata": {},
   "outputs": [],
   "source": [
    "def _path_aux(\n",
    "    grafo: WeightedDirectedGraph, explorer: PathExplorer, target: str\n",
    ") -> tuple[list, str] | tuple[Cycle, str]:\n",
    "    current_node = explorer.path[-1]\n",
    "    if current_node == target:\n",
    "        return explorer.path, \"path\"\n",
    "    \n",
    "    children = grafo.children(current_node)\n",
    "    unexplored_nodes = children - explorer.visited\n",
    "    if not unexplored_nodes:\n",
    "        return [], \"dead explorer\"\n",
    "    \n",
    "    updated_visited = explorer.visited | {current_node}\n",
    "    new_explorers = [\n",
    "        PathExplorer(explorer.path + [node], updated_visited)\n",
    "        for node in unexplored_nodes\n",
    "    ]\n",
    "    return new_explorers, \"continue\""
   ]
  },
  {
   "cell_type": "code",
   "execution_count": 31,
   "metadata": {},
   "outputs": [],
   "source": [
    "def _find_all_paths(grafo: WeightedDirectedGraph, start: str, end: str) -> list[list[str]]:\n",
    "    first_children = grafo.children(start)\n",
    "    if not first_children:\n",
    "        return []\n",
    "\n",
    "    explorers: list[PathExplorer] = [\n",
    "        PathExplorer([start, child]) for child in first_children\n",
    "    ]\n",
    "    all_paths: list[list[str]] = []\n",
    "\n",
    "    while explorers:\n",
    "        result, state = _path_aux(grafo, explorers.pop(0), end)                  \n",
    "        if state == \"path\":\n",
    "            all_paths.append(result)\n",
    "        elif state == \"continue\":\n",
    "            new_explorers = list(set(result) - set(explorers))\n",
    "            explorers.extend(new_explorers)\n",
    "\n",
    "    return all_paths"
   ]
  },
  {
   "cell_type": "code",
   "execution_count": 10,
   "metadata": {},
   "outputs": [
    {
     "data": {
      "text/plain": [
       "{Cycle(['A', 'B', 'C', 'D', 'E', 'F']),\n",
       " Cycle(['A', 'B', 'C', 'D']),\n",
       " Cycle(['A', 'B', 'C']),\n",
       " Cycle(['A', 'B']),\n",
       " Cycle(['A', 'F', 'E', 'B', 'C', 'D']),\n",
       " Cycle(['A', 'F', 'E', 'B', 'C']),\n",
       " Cycle(['A', 'F', 'E', 'B']),\n",
       " Cycle(['A', 'F'])}"
      ]
     },
     "execution_count": 10,
     "metadata": {},
     "output_type": "execute_result"
    }
   ],
   "source": [
    "grafo.get_node_cycles(\"A\")"
   ]
  },
  {
   "cell_type": "code",
   "execution_count": 33,
   "metadata": {},
   "outputs": [
    {
     "data": {
      "text/plain": [
       "[['A', 'F'],\n",
       " ['A', 'B', 'A', 'F'],\n",
       " ['A', 'B', 'C', 'A', 'F'],\n",
       " ['A', 'B', 'C', 'D', 'E', 'F'],\n",
       " ['A', 'B', 'C', 'D', 'A', 'F']]"
      ]
     },
     "execution_count": 33,
     "metadata": {},
     "output_type": "execute_result"
    }
   ],
   "source": [
    "_find_all_paths(grafo, \"A\", \"F\")"
   ]
  },
  {
   "cell_type": "code",
   "execution_count": 7,
   "metadata": {},
   "outputs": [
    {
     "data": {
      "text/plain": [
       "{Cycle(['A', 'B', 'C', 'D', 'E', 'F']),\n",
       " Cycle(['A', 'B', 'C', 'D']),\n",
       " Cycle(['A', 'B', 'C']),\n",
       " Cycle(['A', 'B']),\n",
       " Cycle(['A', 'F', 'E', 'B', 'C', 'D']),\n",
       " Cycle(['A', 'F', 'E', 'B', 'C']),\n",
       " Cycle(['A', 'F', 'E', 'B']),\n",
       " Cycle(['B', 'C', 'D', 'E'])}"
      ]
     },
     "execution_count": 7,
     "metadata": {},
     "output_type": "execute_result"
    }
   ],
   "source": [
    "grafo.get_node_cycles(\"B\")"
   ]
  },
  {
   "cell_type": "code",
   "execution_count": 8,
   "metadata": {},
   "outputs": [
    {
     "data": {
      "text/plain": [
       "{Cycle(['A', 'B', 'C', 'D', 'E', 'F']),\n",
       " Cycle(['A', 'B', 'C', 'D']),\n",
       " Cycle(['A', 'B', 'C']),\n",
       " Cycle(['A', 'F', 'E', 'B', 'C', 'D']),\n",
       " Cycle(['A', 'F', 'E', 'B', 'C']),\n",
       " Cycle(['B', 'C', 'D', 'E'])}"
      ]
     },
     "execution_count": 8,
     "metadata": {},
     "output_type": "execute_result"
    }
   ],
   "source": [
    "grafo.get_node_cycles(\"C\")"
   ]
  },
  {
   "cell_type": "code",
   "execution_count": 9,
   "metadata": {},
   "outputs": [
    {
     "data": {
      "text/plain": [
       "{Cycle(['A', 'B', 'C', 'D', 'E', 'F']),\n",
       " Cycle(['A', 'B', 'C', 'D']),\n",
       " Cycle(['A', 'F', 'E', 'B', 'C', 'D']),\n",
       " Cycle(['B', 'C', 'D', 'E'])}"
      ]
     },
     "execution_count": 9,
     "metadata": {},
     "output_type": "execute_result"
    }
   ],
   "source": [
    "grafo.get_node_cycles(\"D\")"
   ]
  },
  {
   "cell_type": "code",
   "execution_count": 10,
   "metadata": {},
   "outputs": [
    {
     "data": {
      "text/plain": [
       "{Cycle(['A', 'B', 'C', 'D', 'E', 'F']),\n",
       " Cycle(['A', 'F', 'E', 'B', 'C', 'D']),\n",
       " Cycle(['A', 'F', 'E', 'B', 'C']),\n",
       " Cycle(['A', 'F', 'E', 'B']),\n",
       " Cycle(['B', 'C', 'D', 'E']),\n",
       " Cycle(['E', 'F'])}"
      ]
     },
     "execution_count": 10,
     "metadata": {},
     "output_type": "execute_result"
    }
   ],
   "source": [
    "grafo.get_node_cycles(\"E\")"
   ]
  },
  {
   "cell_type": "code",
   "execution_count": 11,
   "metadata": {},
   "outputs": [
    {
     "data": {
      "text/plain": [
       "{Cycle(['A', 'B', 'C', 'D', 'E', 'F']),\n",
       " Cycle(['A', 'F', 'E', 'B', 'C', 'D']),\n",
       " Cycle(['A', 'F', 'E', 'B', 'C']),\n",
       " Cycle(['A', 'F', 'E', 'B']),\n",
       " Cycle(['A', 'F']),\n",
       " Cycle(['E', 'F'])}"
      ]
     },
     "execution_count": 11,
     "metadata": {},
     "output_type": "execute_result"
    }
   ],
   "source": [
    "grafo.get_node_cycles(\"F\")"
   ]
  },
  {
   "cell_type": "code",
   "execution_count": 12,
   "metadata": {},
   "outputs": [
    {
     "data": {
      "text/plain": [
       "{Cycle(['A', 'B', 'C', 'D', 'E', 'F']),\n",
       " Cycle(['A', 'B', 'C', 'D']),\n",
       " Cycle(['A', 'B', 'C']),\n",
       " Cycle(['A', 'B']),\n",
       " Cycle(['A', 'F', 'E', 'B', 'C', 'D']),\n",
       " Cycle(['A', 'F', 'E', 'B', 'C']),\n",
       " Cycle(['A', 'F', 'E', 'B']),\n",
       " Cycle(['A', 'F']),\n",
       " Cycle(['B', 'C', 'D', 'E']),\n",
       " Cycle(['E', 'F'])}"
      ]
     },
     "execution_count": 12,
     "metadata": {},
     "output_type": "execute_result"
    }
   ],
   "source": [
    "grafo.cycles"
   ]
  },
  {
   "cell_type": "code",
   "execution_count": 13,
   "metadata": {},
   "outputs": [
    {
     "data": {
      "text/plain": [
       "True"
      ]
     },
     "execution_count": 13,
     "metadata": {},
     "output_type": "execute_result"
    }
   ],
   "source": [
    "grafo.is_conmutative"
   ]
  },
  {
   "cell_type": "code",
   "execution_count": 14,
   "metadata": {},
   "outputs": [],
   "source": [
    "import numpy as np\n",
    "\n",
    "def vector_group_multiplication() -> Group:\n",
    "    group = Group(\n",
    "        name=\"Vectors of dimension 2 with multiplication\",\n",
    "        identity=np.ones(2),\n",
    "        operation=lambda x, y: x * y,\n",
    "        inverse_function=lambda x: 1 / x,\n",
    "        hash_function=lambda x: hash(tuple(x)),\n",
    "    )\n",
    "    return group\n",
    "\n",
    "\n",
    "def vector_group_addition() -> Group:\n",
    "    group = Group(\n",
    "        name=\"Vectors of dimension 2 with addition\",\n",
    "        identity=np.zeros(2),\n",
    "        operation=lambda x, y: x + y,\n",
    "        inverse_function=lambda x: -x,\n",
    "        hash_function=lambda x: hash(tuple(x)),\n",
    "    )\n",
    "    return group\n",
    "\n",
    "\n",
    "_array_dict_graph: dict[str, dict[str, Any]] = {\n",
    "    \"A\": {\n",
    "        \"B\": np.array([1.0, 2.0]),\n",
    "        \"C\": np.array([3.0, 4.0]),\n",
    "    },\n",
    "    \"B\": {\n",
    "        \"C\": np.array([-5.0, 1.3]),\n",
    "        \"D\": np.array([2.0, 1.0]),\n",
    "    },\n",
    "    \"C\": {\n",
    "        \"D\": np.array([-1.0, 1.0]),\n",
    "    },\n",
    "    \"D\": {},\n",
    "    \"Z\": {},\n",
    "}\n",
    "\n",
    "\n",
    "def multiplication_graph() -> WeightedDirectedGraph:\n",
    "    graph = WeightedDirectedGraph.from_dict(\n",
    "        _array_dict_graph, vector_group_multiplication()\n",
    "    )\n",
    "    return graph\n",
    "\n",
    "\n",
    "def addition_graph() -> WeightedDirectedGraph:\n",
    "    graph = WeightedDirectedGraph.from_dict(_array_dict_graph, vector_group_addition())\n",
    "    return graph"
   ]
  },
  {
   "cell_type": "code",
   "execution_count": 25,
   "metadata": {},
   "outputs": [
    {
     "data": {
      "text/plain": [
       "False"
      ]
     },
     "execution_count": 25,
     "metadata": {},
     "output_type": "execute_result"
    }
   ],
   "source": [
    "addition_graph().add_reverse_edges().is_conmutative"
   ]
  },
  {
   "cell_type": "code",
   "execution_count": 26,
   "metadata": {},
   "outputs": [
    {
     "data": {
      "text/plain": [
       "[Cycle(['B', 'C', 'D']),\n",
       " Cycle(['B', 'D', 'C']),\n",
       " Cycle(['A', 'C', 'D', 'B']),\n",
       " Cycle(['A', 'B', 'C']),\n",
       " Cycle(['A', 'C', 'B']),\n",
       " Cycle(['A', 'B', 'D', 'C'])]"
      ]
     },
     "execution_count": 26,
     "metadata": {},
     "output_type": "execute_result"
    }
   ],
   "source": [
    "complete_graph = addition_graph().add_reverse_edges()\n",
    "group = complete_graph.group\n",
    "identity = group.identity\n",
    "bad = [\n",
    "    cycle\n",
    "    for cycle in complete_graph.cycles\n",
    "    if not group.equal(complete_graph.path_weight(cycle), identity)\n",
    "]\n",
    "bad "
   ]
  },
  {
   "cell_type": "code",
   "execution_count": 27,
   "metadata": {},
   "outputs": [
    {
     "data": {
      "text/plain": [
       "[array([-8. ,  1.3]),\n",
       " array([ 8. , -1.3]),\n",
       " array([-1.,  2.]),\n",
       " array([-7. , -0.7]),\n",
       " array([7. , 0.7]),\n",
       " array([ 1., -2.])]"
      ]
     },
     "execution_count": 27,
     "metadata": {},
     "output_type": "execute_result"
    }
   ],
   "source": [
    "[\n",
    "    complete_graph.path_weight(cycle)\n",
    "    for cycle in bad\n",
    "]"
   ]
  },
  {
   "cell_type": "code",
   "execution_count": 24,
   "metadata": {},
   "outputs": [
    {
     "data": {
      "text/plain": [
       "Nodes: {'B', 'C', 'Z', 'D', 'A'}\n",
       "Edges:\n",
       "A -> C: [3. 4.]\n",
       "A -> B: [1. 2.]\n",
       "D -> C: [-1.  1.]\n",
       "B -> A: [1.  0.5]\n",
       "C -> D: [-1.  1.]\n",
       "C -> A: [0.33333333 0.25      ]\n",
       "B -> C: [-5.   1.3]\n",
       "B -> D: [2. 1.]\n",
       "C -> B: [-0.2         0.76923077]\n",
       "D -> B: [0.5 1. ]"
      ]
     },
     "execution_count": 24,
     "metadata": {},
     "output_type": "execute_result"
    }
   ],
   "source": [
    "complete_graph"
   ]
  },
  {
   "cell_type": "code",
   "execution_count": 18,
   "metadata": {},
   "outputs": [
    {
     "data": {
      "text/plain": [
       "{Cycle(['A', 'B', 'C']),\n",
       " Cycle(['A', 'B', 'D', 'C']),\n",
       " Cycle(['A', 'B']),\n",
       " Cycle(['A', 'C', 'B']),\n",
       " Cycle(['A', 'C', 'D', 'B']),\n",
       " Cycle(['A', 'C']),\n",
       " Cycle(['B', 'C', 'D']),\n",
       " Cycle(['B', 'C']),\n",
       " Cycle(['B', 'D', 'C']),\n",
       " Cycle(['B', 'D']),\n",
       " Cycle(['C', 'D'])}"
      ]
     },
     "execution_count": 18,
     "metadata": {},
     "output_type": "execute_result"
    }
   ],
   "source": [
    "todos = set()\n",
    "for node in complete_graph.nodes: \n",
    "    todos.update(complete_graph.get_node_cycles(node))\n",
    "\n",
    "todos"
   ]
  },
  {
   "cell_type": "code",
   "execution_count": 19,
   "metadata": {},
   "outputs": [
    {
     "data": {
      "text/plain": [
       "[Cycle(['B', 'C', 'D']),\n",
       " Cycle(['C', 'D']),\n",
       " Cycle(['B', 'D', 'C']),\n",
       " Cycle(['A', 'C', 'D', 'B']),\n",
       " Cycle(['A', 'C']),\n",
       " Cycle(['A', 'B']),\n",
       " Cycle(['B', 'C']),\n",
       " Cycle(['A', 'B', 'C']),\n",
       " Cycle(['A', 'C', 'B']),\n",
       " Cycle(['B', 'D']),\n",
       " Cycle(['A', 'B', 'D', 'C'])]"
      ]
     },
     "execution_count": 19,
     "metadata": {},
     "output_type": "execute_result"
    }
   ],
   "source": [
    "[cycle for cycle in complete_graph.cycles]"
   ]
  },
  {
   "cell_type": "code",
   "execution_count": 32,
   "metadata": {},
   "outputs": [],
   "source": [
    "grafo = WeightedDirectedGraph.from_dict(\n",
    "    {\n",
    "        \"A\": {\"B\": np.array([1, 2.0]), \"C\": np.array([3.0, 4.0])},\n",
    "        \"B\": {\"C\": np.array([2.0, 2.0])},\n",
    "        \"C\": {},\n",
    "    },\n",
    "    vector_group_addition(),\n",
    ")"
   ]
  },
  {
   "cell_type": "code",
   "execution_count": 36,
   "metadata": {},
   "outputs": [
    {
     "data": {
      "text/plain": [
       "{Cycle(['A', 'B', 'C']),\n",
       " Cycle(['A', 'B']),\n",
       " Cycle(['A', 'C', 'B']),\n",
       " Cycle(['A', 'C']),\n",
       " Cycle(['B', 'C'])}"
      ]
     },
     "execution_count": 36,
     "metadata": {},
     "output_type": "execute_result"
    }
   ],
   "source": [
    "grafo.add_reverse_edges().cycles"
   ]
  }
 ],
 "metadata": {
  "kernelspec": {
   "display_name": "Python 3",
   "language": "python",
   "name": "python3"
  },
  "language_info": {
   "codemirror_mode": {
    "name": "ipython",
    "version": 3
   },
   "file_extension": ".py",
   "mimetype": "text/x-python",
   "name": "python",
   "nbconvert_exporter": "python",
   "pygments_lexer": "ipython3",
   "version": "3.12.2"
  }
 },
 "nbformat": 4,
 "nbformat_minor": 2
}
